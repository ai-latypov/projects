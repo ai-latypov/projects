{
 "cells": [
  {
   "cell_type": "code",
   "execution_count": 1,
   "metadata": {},
   "outputs": [],
   "source": [
    "import pandas as pd\n",
    "import numpy as np\n",
    "import seaborn as sns\n",
    "import matplotlib.pyplot as plt\n",
    "import warnings\n",
    "warnings.filterwarnings('ignore')"
   ]
  },
  {
   "cell_type": "code",
   "execution_count": 2,
   "metadata": {},
   "outputs": [],
   "source": [
    "%matplotlib inline\n",
    "plt.rcParams[\"figure.figsize\"] = (12, 9) # (w, h)  12, 9 или 40 20"
   ]
  },
  {
   "cell_type": "code",
   "execution_count": 3,
   "metadata": {},
   "outputs": [],
   "source": [
    "df = pd.read_csv('http://invidio.drl.pl/files/german_credit.csv')"
   ]
  },
  {
   "cell_type": "code",
   "execution_count": 4,
   "metadata": {
    "scrolled": true
   },
   "outputs": [
    {
     "data": {
      "text/html": [
       "<div>\n",
       "<style scoped>\n",
       "    .dataframe tbody tr th:only-of-type {\n",
       "        vertical-align: middle;\n",
       "    }\n",
       "\n",
       "    .dataframe tbody tr th {\n",
       "        vertical-align: top;\n",
       "    }\n",
       "\n",
       "    .dataframe thead th {\n",
       "        text-align: right;\n",
       "    }\n",
       "</style>\n",
       "<table border=\"1\" class=\"dataframe\">\n",
       "  <thead>\n",
       "    <tr style=\"text-align: right;\">\n",
       "      <th></th>\n",
       "      <th>default</th>\n",
       "      <th>account_check_status</th>\n",
       "      <th>duration_in_month</th>\n",
       "      <th>credit_history</th>\n",
       "      <th>purpose</th>\n",
       "      <th>credit_amount</th>\n",
       "      <th>savings</th>\n",
       "      <th>present_emp_since</th>\n",
       "      <th>installment_as_income_perc</th>\n",
       "      <th>personal_status_sex</th>\n",
       "      <th>...</th>\n",
       "      <th>present_res_since</th>\n",
       "      <th>property</th>\n",
       "      <th>age</th>\n",
       "      <th>other_installment_plans</th>\n",
       "      <th>housing</th>\n",
       "      <th>credits_this_bank</th>\n",
       "      <th>job</th>\n",
       "      <th>people_under_maintenance</th>\n",
       "      <th>telephone</th>\n",
       "      <th>foreign_worker</th>\n",
       "    </tr>\n",
       "  </thead>\n",
       "  <tbody>\n",
       "    <tr>\n",
       "      <td>0</td>\n",
       "      <td>0</td>\n",
       "      <td>&lt; 0 DM</td>\n",
       "      <td>6</td>\n",
       "      <td>critical account/ other credits existing (not ...</td>\n",
       "      <td>domestic appliances</td>\n",
       "      <td>1169</td>\n",
       "      <td>unknown/ no savings account</td>\n",
       "      <td>.. &gt;= 7 years</td>\n",
       "      <td>4</td>\n",
       "      <td>male : single</td>\n",
       "      <td>...</td>\n",
       "      <td>4</td>\n",
       "      <td>real estate</td>\n",
       "      <td>67</td>\n",
       "      <td>none</td>\n",
       "      <td>own</td>\n",
       "      <td>2</td>\n",
       "      <td>skilled employee / official</td>\n",
       "      <td>1</td>\n",
       "      <td>yes, registered under the customers name</td>\n",
       "      <td>yes</td>\n",
       "    </tr>\n",
       "    <tr>\n",
       "      <td>1</td>\n",
       "      <td>1</td>\n",
       "      <td>0 &lt;= ... &lt; 200 DM</td>\n",
       "      <td>48</td>\n",
       "      <td>existing credits paid back duly till now</td>\n",
       "      <td>domestic appliances</td>\n",
       "      <td>5951</td>\n",
       "      <td>... &lt; 100 DM</td>\n",
       "      <td>1 &lt;= ... &lt; 4 years</td>\n",
       "      <td>2</td>\n",
       "      <td>female : divorced/separated/married</td>\n",
       "      <td>...</td>\n",
       "      <td>2</td>\n",
       "      <td>real estate</td>\n",
       "      <td>22</td>\n",
       "      <td>none</td>\n",
       "      <td>own</td>\n",
       "      <td>1</td>\n",
       "      <td>skilled employee / official</td>\n",
       "      <td>1</td>\n",
       "      <td>none</td>\n",
       "      <td>yes</td>\n",
       "    </tr>\n",
       "    <tr>\n",
       "      <td>2</td>\n",
       "      <td>0</td>\n",
       "      <td>no checking account</td>\n",
       "      <td>12</td>\n",
       "      <td>critical account/ other credits existing (not ...</td>\n",
       "      <td>(vacation - does not exist?)</td>\n",
       "      <td>2096</td>\n",
       "      <td>... &lt; 100 DM</td>\n",
       "      <td>4 &lt;= ... &lt; 7 years</td>\n",
       "      <td>2</td>\n",
       "      <td>male : single</td>\n",
       "      <td>...</td>\n",
       "      <td>3</td>\n",
       "      <td>real estate</td>\n",
       "      <td>49</td>\n",
       "      <td>none</td>\n",
       "      <td>own</td>\n",
       "      <td>1</td>\n",
       "      <td>unskilled - resident</td>\n",
       "      <td>2</td>\n",
       "      <td>none</td>\n",
       "      <td>yes</td>\n",
       "    </tr>\n",
       "    <tr>\n",
       "      <td>3</td>\n",
       "      <td>0</td>\n",
       "      <td>&lt; 0 DM</td>\n",
       "      <td>42</td>\n",
       "      <td>existing credits paid back duly till now</td>\n",
       "      <td>radio/television</td>\n",
       "      <td>7882</td>\n",
       "      <td>... &lt; 100 DM</td>\n",
       "      <td>4 &lt;= ... &lt; 7 years</td>\n",
       "      <td>2</td>\n",
       "      <td>male : single</td>\n",
       "      <td>...</td>\n",
       "      <td>4</td>\n",
       "      <td>if not A121 : building society savings agreeme...</td>\n",
       "      <td>45</td>\n",
       "      <td>none</td>\n",
       "      <td>for free</td>\n",
       "      <td>1</td>\n",
       "      <td>skilled employee / official</td>\n",
       "      <td>2</td>\n",
       "      <td>none</td>\n",
       "      <td>yes</td>\n",
       "    </tr>\n",
       "    <tr>\n",
       "      <td>4</td>\n",
       "      <td>1</td>\n",
       "      <td>&lt; 0 DM</td>\n",
       "      <td>24</td>\n",
       "      <td>delay in paying off in the past</td>\n",
       "      <td>car (new)</td>\n",
       "      <td>4870</td>\n",
       "      <td>... &lt; 100 DM</td>\n",
       "      <td>1 &lt;= ... &lt; 4 years</td>\n",
       "      <td>3</td>\n",
       "      <td>male : single</td>\n",
       "      <td>...</td>\n",
       "      <td>4</td>\n",
       "      <td>unknown / no property</td>\n",
       "      <td>53</td>\n",
       "      <td>none</td>\n",
       "      <td>for free</td>\n",
       "      <td>2</td>\n",
       "      <td>skilled employee / official</td>\n",
       "      <td>2</td>\n",
       "      <td>none</td>\n",
       "      <td>yes</td>\n",
       "    </tr>\n",
       "    <tr>\n",
       "      <td>...</td>\n",
       "      <td>...</td>\n",
       "      <td>...</td>\n",
       "      <td>...</td>\n",
       "      <td>...</td>\n",
       "      <td>...</td>\n",
       "      <td>...</td>\n",
       "      <td>...</td>\n",
       "      <td>...</td>\n",
       "      <td>...</td>\n",
       "      <td>...</td>\n",
       "      <td>...</td>\n",
       "      <td>...</td>\n",
       "      <td>...</td>\n",
       "      <td>...</td>\n",
       "      <td>...</td>\n",
       "      <td>...</td>\n",
       "      <td>...</td>\n",
       "      <td>...</td>\n",
       "      <td>...</td>\n",
       "      <td>...</td>\n",
       "      <td>...</td>\n",
       "    </tr>\n",
       "    <tr>\n",
       "      <td>995</td>\n",
       "      <td>0</td>\n",
       "      <td>no checking account</td>\n",
       "      <td>12</td>\n",
       "      <td>existing credits paid back duly till now</td>\n",
       "      <td>radio/television</td>\n",
       "      <td>1736</td>\n",
       "      <td>... &lt; 100 DM</td>\n",
       "      <td>4 &lt;= ... &lt; 7 years</td>\n",
       "      <td>3</td>\n",
       "      <td>female : divorced/separated/married</td>\n",
       "      <td>...</td>\n",
       "      <td>4</td>\n",
       "      <td>real estate</td>\n",
       "      <td>31</td>\n",
       "      <td>none</td>\n",
       "      <td>own</td>\n",
       "      <td>1</td>\n",
       "      <td>unskilled - resident</td>\n",
       "      <td>1</td>\n",
       "      <td>none</td>\n",
       "      <td>yes</td>\n",
       "    </tr>\n",
       "    <tr>\n",
       "      <td>996</td>\n",
       "      <td>0</td>\n",
       "      <td>&lt; 0 DM</td>\n",
       "      <td>30</td>\n",
       "      <td>existing credits paid back duly till now</td>\n",
       "      <td>car (used)</td>\n",
       "      <td>3857</td>\n",
       "      <td>... &lt; 100 DM</td>\n",
       "      <td>1 &lt;= ... &lt; 4 years</td>\n",
       "      <td>4</td>\n",
       "      <td>male : divorced/separated</td>\n",
       "      <td>...</td>\n",
       "      <td>4</td>\n",
       "      <td>if not A121 : building society savings agreeme...</td>\n",
       "      <td>40</td>\n",
       "      <td>none</td>\n",
       "      <td>own</td>\n",
       "      <td>1</td>\n",
       "      <td>management/ self-employed/ highly qualified em...</td>\n",
       "      <td>1</td>\n",
       "      <td>yes, registered under the customers name</td>\n",
       "      <td>yes</td>\n",
       "    </tr>\n",
       "    <tr>\n",
       "      <td>997</td>\n",
       "      <td>0</td>\n",
       "      <td>no checking account</td>\n",
       "      <td>12</td>\n",
       "      <td>existing credits paid back duly till now</td>\n",
       "      <td>domestic appliances</td>\n",
       "      <td>804</td>\n",
       "      <td>... &lt; 100 DM</td>\n",
       "      <td>.. &gt;= 7 years</td>\n",
       "      <td>4</td>\n",
       "      <td>male : single</td>\n",
       "      <td>...</td>\n",
       "      <td>4</td>\n",
       "      <td>if not A121/A122 : car or other, not in attrib...</td>\n",
       "      <td>38</td>\n",
       "      <td>none</td>\n",
       "      <td>own</td>\n",
       "      <td>1</td>\n",
       "      <td>skilled employee / official</td>\n",
       "      <td>1</td>\n",
       "      <td>none</td>\n",
       "      <td>yes</td>\n",
       "    </tr>\n",
       "    <tr>\n",
       "      <td>998</td>\n",
       "      <td>1</td>\n",
       "      <td>&lt; 0 DM</td>\n",
       "      <td>45</td>\n",
       "      <td>existing credits paid back duly till now</td>\n",
       "      <td>domestic appliances</td>\n",
       "      <td>1845</td>\n",
       "      <td>... &lt; 100 DM</td>\n",
       "      <td>1 &lt;= ... &lt; 4 years</td>\n",
       "      <td>4</td>\n",
       "      <td>male : single</td>\n",
       "      <td>...</td>\n",
       "      <td>4</td>\n",
       "      <td>unknown / no property</td>\n",
       "      <td>23</td>\n",
       "      <td>none</td>\n",
       "      <td>for free</td>\n",
       "      <td>1</td>\n",
       "      <td>skilled employee / official</td>\n",
       "      <td>1</td>\n",
       "      <td>yes, registered under the customers name</td>\n",
       "      <td>yes</td>\n",
       "    </tr>\n",
       "    <tr>\n",
       "      <td>999</td>\n",
       "      <td>0</td>\n",
       "      <td>0 &lt;= ... &lt; 200 DM</td>\n",
       "      <td>45</td>\n",
       "      <td>critical account/ other credits existing (not ...</td>\n",
       "      <td>car (used)</td>\n",
       "      <td>4576</td>\n",
       "      <td>100 &lt;= ... &lt; 500 DM</td>\n",
       "      <td>unemployed</td>\n",
       "      <td>3</td>\n",
       "      <td>male : single</td>\n",
       "      <td>...</td>\n",
       "      <td>4</td>\n",
       "      <td>if not A121/A122 : car or other, not in attrib...</td>\n",
       "      <td>27</td>\n",
       "      <td>none</td>\n",
       "      <td>own</td>\n",
       "      <td>1</td>\n",
       "      <td>skilled employee / official</td>\n",
       "      <td>1</td>\n",
       "      <td>none</td>\n",
       "      <td>yes</td>\n",
       "    </tr>\n",
       "  </tbody>\n",
       "</table>\n",
       "<p>1000 rows × 21 columns</p>\n",
       "</div>"
      ],
      "text/plain": [
       "     default account_check_status  duration_in_month  \\\n",
       "0          0               < 0 DM                  6   \n",
       "1          1    0 <= ... < 200 DM                 48   \n",
       "2          0  no checking account                 12   \n",
       "3          0               < 0 DM                 42   \n",
       "4          1               < 0 DM                 24   \n",
       "..       ...                  ...                ...   \n",
       "995        0  no checking account                 12   \n",
       "996        0               < 0 DM                 30   \n",
       "997        0  no checking account                 12   \n",
       "998        1               < 0 DM                 45   \n",
       "999        0    0 <= ... < 200 DM                 45   \n",
       "\n",
       "                                        credit_history  \\\n",
       "0    critical account/ other credits existing (not ...   \n",
       "1             existing credits paid back duly till now   \n",
       "2    critical account/ other credits existing (not ...   \n",
       "3             existing credits paid back duly till now   \n",
       "4                      delay in paying off in the past   \n",
       "..                                                 ...   \n",
       "995           existing credits paid back duly till now   \n",
       "996           existing credits paid back duly till now   \n",
       "997           existing credits paid back duly till now   \n",
       "998           existing credits paid back duly till now   \n",
       "999  critical account/ other credits existing (not ...   \n",
       "\n",
       "                          purpose  credit_amount                      savings  \\\n",
       "0             domestic appliances           1169  unknown/ no savings account   \n",
       "1             domestic appliances           5951                 ... < 100 DM   \n",
       "2    (vacation - does not exist?)           2096                 ... < 100 DM   \n",
       "3                radio/television           7882                 ... < 100 DM   \n",
       "4                       car (new)           4870                 ... < 100 DM   \n",
       "..                            ...            ...                          ...   \n",
       "995              radio/television           1736                 ... < 100 DM   \n",
       "996                    car (used)           3857                 ... < 100 DM   \n",
       "997           domestic appliances            804                 ... < 100 DM   \n",
       "998           domestic appliances           1845                 ... < 100 DM   \n",
       "999                    car (used)           4576          100 <= ... < 500 DM   \n",
       "\n",
       "      present_emp_since  installment_as_income_perc  \\\n",
       "0         .. >= 7 years                           4   \n",
       "1    1 <= ... < 4 years                           2   \n",
       "2    4 <= ... < 7 years                           2   \n",
       "3    4 <= ... < 7 years                           2   \n",
       "4    1 <= ... < 4 years                           3   \n",
       "..                  ...                         ...   \n",
       "995  4 <= ... < 7 years                           3   \n",
       "996  1 <= ... < 4 years                           4   \n",
       "997       .. >= 7 years                           4   \n",
       "998  1 <= ... < 4 years                           4   \n",
       "999          unemployed                           3   \n",
       "\n",
       "                     personal_status_sex  ... present_res_since  \\\n",
       "0                          male : single  ...                 4   \n",
       "1    female : divorced/separated/married  ...                 2   \n",
       "2                          male : single  ...                 3   \n",
       "3                          male : single  ...                 4   \n",
       "4                          male : single  ...                 4   \n",
       "..                                   ...  ...               ...   \n",
       "995  female : divorced/separated/married  ...                 4   \n",
       "996            male : divorced/separated  ...                 4   \n",
       "997                        male : single  ...                 4   \n",
       "998                        male : single  ...                 4   \n",
       "999                        male : single  ...                 4   \n",
       "\n",
       "                                              property age  \\\n",
       "0                                          real estate  67   \n",
       "1                                          real estate  22   \n",
       "2                                          real estate  49   \n",
       "3    if not A121 : building society savings agreeme...  45   \n",
       "4                                unknown / no property  53   \n",
       "..                                                 ...  ..   \n",
       "995                                        real estate  31   \n",
       "996  if not A121 : building society savings agreeme...  40   \n",
       "997  if not A121/A122 : car or other, not in attrib...  38   \n",
       "998                              unknown / no property  23   \n",
       "999  if not A121/A122 : car or other, not in attrib...  27   \n",
       "\n",
       "     other_installment_plans   housing credits_this_bank  \\\n",
       "0                       none       own                 2   \n",
       "1                       none       own                 1   \n",
       "2                       none       own                 1   \n",
       "3                       none  for free                 1   \n",
       "4                       none  for free                 2   \n",
       "..                       ...       ...               ...   \n",
       "995                     none       own                 1   \n",
       "996                     none       own                 1   \n",
       "997                     none       own                 1   \n",
       "998                     none  for free                 1   \n",
       "999                     none       own                 1   \n",
       "\n",
       "                                                   job  \\\n",
       "0                          skilled employee / official   \n",
       "1                          skilled employee / official   \n",
       "2                                 unskilled - resident   \n",
       "3                          skilled employee / official   \n",
       "4                          skilled employee / official   \n",
       "..                                                 ...   \n",
       "995                               unskilled - resident   \n",
       "996  management/ self-employed/ highly qualified em...   \n",
       "997                        skilled employee / official   \n",
       "998                        skilled employee / official   \n",
       "999                        skilled employee / official   \n",
       "\n",
       "    people_under_maintenance                                  telephone  \\\n",
       "0                          1  yes, registered under the customers name    \n",
       "1                          1                                       none   \n",
       "2                          2                                       none   \n",
       "3                          2                                       none   \n",
       "4                          2                                       none   \n",
       "..                       ...                                        ...   \n",
       "995                        1                                       none   \n",
       "996                        1  yes, registered under the customers name    \n",
       "997                        1                                       none   \n",
       "998                        1  yes, registered under the customers name    \n",
       "999                        1                                       none   \n",
       "\n",
       "    foreign_worker  \n",
       "0              yes  \n",
       "1              yes  \n",
       "2              yes  \n",
       "3              yes  \n",
       "4              yes  \n",
       "..             ...  \n",
       "995            yes  \n",
       "996            yes  \n",
       "997            yes  \n",
       "998            yes  \n",
       "999            yes  \n",
       "\n",
       "[1000 rows x 21 columns]"
      ]
     },
     "execution_count": 4,
     "metadata": {},
     "output_type": "execute_result"
    }
   ],
   "source": [
    "df"
   ]
  },
  {
   "cell_type": "code",
   "execution_count": 5,
   "metadata": {},
   "outputs": [
    {
     "data": {
      "text/plain": [
       "(1000, 21)"
      ]
     },
     "execution_count": 5,
     "metadata": {},
     "output_type": "execute_result"
    }
   ],
   "source": [
    "df.shape"
   ]
  },
  {
   "cell_type": "code",
   "execution_count": 6,
   "metadata": {},
   "outputs": [],
   "source": [
    "X = df.drop(['default'], axis = 1)\n",
    "y = df.default"
   ]
  },
  {
   "cell_type": "code",
   "execution_count": 7,
   "metadata": {},
   "outputs": [
    {
     "name": "stdout",
     "output_type": "stream",
     "text": [
      "<class 'pandas.core.frame.DataFrame'>\n",
      "RangeIndex: 1000 entries, 0 to 999\n",
      "Data columns (total 21 columns):\n",
      "default                       1000 non-null int64\n",
      "account_check_status          1000 non-null object\n",
      "duration_in_month             1000 non-null int64\n",
      "credit_history                1000 non-null object\n",
      "purpose                       1000 non-null object\n",
      "credit_amount                 1000 non-null int64\n",
      "savings                       1000 non-null object\n",
      "present_emp_since             1000 non-null object\n",
      "installment_as_income_perc    1000 non-null int64\n",
      "personal_status_sex           1000 non-null object\n",
      "other_debtors                 1000 non-null object\n",
      "present_res_since             1000 non-null int64\n",
      "property                      1000 non-null object\n",
      "age                           1000 non-null int64\n",
      "other_installment_plans       1000 non-null object\n",
      "housing                       1000 non-null object\n",
      "credits_this_bank             1000 non-null int64\n",
      "job                           1000 non-null object\n",
      "people_under_maintenance      1000 non-null int64\n",
      "telephone                     1000 non-null object\n",
      "foreign_worker                1000 non-null object\n",
      "dtypes: int64(8), object(13)\n",
      "memory usage: 164.2+ KB\n"
     ]
    }
   ],
   "source": [
    "df.info()"
   ]
  },
  {
   "cell_type": "code",
   "execution_count": 8,
   "metadata": {},
   "outputs": [
    {
     "data": {
      "text/html": [
       "<div>\n",
       "<style scoped>\n",
       "    .dataframe tbody tr th:only-of-type {\n",
       "        vertical-align: middle;\n",
       "    }\n",
       "\n",
       "    .dataframe tbody tr th {\n",
       "        vertical-align: top;\n",
       "    }\n",
       "\n",
       "    .dataframe thead th {\n",
       "        text-align: right;\n",
       "    }\n",
       "</style>\n",
       "<table border=\"1\" class=\"dataframe\">\n",
       "  <thead>\n",
       "    <tr style=\"text-align: right;\">\n",
       "      <th></th>\n",
       "      <th>default</th>\n",
       "      <th>duration_in_month</th>\n",
       "      <th>credit_amount</th>\n",
       "      <th>installment_as_income_perc</th>\n",
       "      <th>present_res_since</th>\n",
       "      <th>age</th>\n",
       "      <th>credits_this_bank</th>\n",
       "      <th>people_under_maintenance</th>\n",
       "    </tr>\n",
       "  </thead>\n",
       "  <tbody>\n",
       "    <tr>\n",
       "      <td>count</td>\n",
       "      <td>1000.000000</td>\n",
       "      <td>1000.000000</td>\n",
       "      <td>1000.000000</td>\n",
       "      <td>1000.000000</td>\n",
       "      <td>1000.000000</td>\n",
       "      <td>1000.000000</td>\n",
       "      <td>1000.000000</td>\n",
       "      <td>1000.000000</td>\n",
       "    </tr>\n",
       "    <tr>\n",
       "      <td>mean</td>\n",
       "      <td>0.300000</td>\n",
       "      <td>20.903000</td>\n",
       "      <td>3271.258000</td>\n",
       "      <td>2.973000</td>\n",
       "      <td>2.845000</td>\n",
       "      <td>35.546000</td>\n",
       "      <td>1.407000</td>\n",
       "      <td>1.155000</td>\n",
       "    </tr>\n",
       "    <tr>\n",
       "      <td>std</td>\n",
       "      <td>0.458487</td>\n",
       "      <td>12.058814</td>\n",
       "      <td>2822.736876</td>\n",
       "      <td>1.118715</td>\n",
       "      <td>1.103718</td>\n",
       "      <td>11.375469</td>\n",
       "      <td>0.577654</td>\n",
       "      <td>0.362086</td>\n",
       "    </tr>\n",
       "    <tr>\n",
       "      <td>min</td>\n",
       "      <td>0.000000</td>\n",
       "      <td>4.000000</td>\n",
       "      <td>250.000000</td>\n",
       "      <td>1.000000</td>\n",
       "      <td>1.000000</td>\n",
       "      <td>19.000000</td>\n",
       "      <td>1.000000</td>\n",
       "      <td>1.000000</td>\n",
       "    </tr>\n",
       "    <tr>\n",
       "      <td>25%</td>\n",
       "      <td>0.000000</td>\n",
       "      <td>12.000000</td>\n",
       "      <td>1365.500000</td>\n",
       "      <td>2.000000</td>\n",
       "      <td>2.000000</td>\n",
       "      <td>27.000000</td>\n",
       "      <td>1.000000</td>\n",
       "      <td>1.000000</td>\n",
       "    </tr>\n",
       "    <tr>\n",
       "      <td>50%</td>\n",
       "      <td>0.000000</td>\n",
       "      <td>18.000000</td>\n",
       "      <td>2319.500000</td>\n",
       "      <td>3.000000</td>\n",
       "      <td>3.000000</td>\n",
       "      <td>33.000000</td>\n",
       "      <td>1.000000</td>\n",
       "      <td>1.000000</td>\n",
       "    </tr>\n",
       "    <tr>\n",
       "      <td>75%</td>\n",
       "      <td>1.000000</td>\n",
       "      <td>24.000000</td>\n",
       "      <td>3972.250000</td>\n",
       "      <td>4.000000</td>\n",
       "      <td>4.000000</td>\n",
       "      <td>42.000000</td>\n",
       "      <td>2.000000</td>\n",
       "      <td>1.000000</td>\n",
       "    </tr>\n",
       "    <tr>\n",
       "      <td>max</td>\n",
       "      <td>1.000000</td>\n",
       "      <td>72.000000</td>\n",
       "      <td>18424.000000</td>\n",
       "      <td>4.000000</td>\n",
       "      <td>4.000000</td>\n",
       "      <td>75.000000</td>\n",
       "      <td>4.000000</td>\n",
       "      <td>2.000000</td>\n",
       "    </tr>\n",
       "  </tbody>\n",
       "</table>\n",
       "</div>"
      ],
      "text/plain": [
       "           default  duration_in_month  credit_amount  \\\n",
       "count  1000.000000        1000.000000    1000.000000   \n",
       "mean      0.300000          20.903000    3271.258000   \n",
       "std       0.458487          12.058814    2822.736876   \n",
       "min       0.000000           4.000000     250.000000   \n",
       "25%       0.000000          12.000000    1365.500000   \n",
       "50%       0.000000          18.000000    2319.500000   \n",
       "75%       1.000000          24.000000    3972.250000   \n",
       "max       1.000000          72.000000   18424.000000   \n",
       "\n",
       "       installment_as_income_perc  present_res_since          age  \\\n",
       "count                 1000.000000        1000.000000  1000.000000   \n",
       "mean                     2.973000           2.845000    35.546000   \n",
       "std                      1.118715           1.103718    11.375469   \n",
       "min                      1.000000           1.000000    19.000000   \n",
       "25%                      2.000000           2.000000    27.000000   \n",
       "50%                      3.000000           3.000000    33.000000   \n",
       "75%                      4.000000           4.000000    42.000000   \n",
       "max                      4.000000           4.000000    75.000000   \n",
       "\n",
       "       credits_this_bank  people_under_maintenance  \n",
       "count        1000.000000               1000.000000  \n",
       "mean            1.407000                  1.155000  \n",
       "std             0.577654                  0.362086  \n",
       "min             1.000000                  1.000000  \n",
       "25%             1.000000                  1.000000  \n",
       "50%             1.000000                  1.000000  \n",
       "75%             2.000000                  1.000000  \n",
       "max             4.000000                  2.000000  "
      ]
     },
     "execution_count": 8,
     "metadata": {},
     "output_type": "execute_result"
    }
   ],
   "source": [
    "df.describe()"
   ]
  },
  {
   "cell_type": "code",
   "execution_count": 9,
   "metadata": {},
   "outputs": [
    {
     "data": {
      "text/plain": [
       "default                         2\n",
       "account_check_status            4\n",
       "duration_in_month              33\n",
       "credit_history                  5\n",
       "purpose                        10\n",
       "credit_amount                 921\n",
       "savings                         5\n",
       "present_emp_since               5\n",
       "installment_as_income_perc      4\n",
       "personal_status_sex             4\n",
       "other_debtors                   3\n",
       "present_res_since               4\n",
       "property                        4\n",
       "age                            53\n",
       "other_installment_plans         3\n",
       "housing                         3\n",
       "credits_this_bank               4\n",
       "job                             4\n",
       "people_under_maintenance        2\n",
       "telephone                       2\n",
       "foreign_worker                  2\n",
       "dtype: int64"
      ]
     },
     "execution_count": 9,
     "metadata": {},
     "output_type": "execute_result"
    }
   ],
   "source": [
    "df.nunique()"
   ]
  },
  {
   "cell_type": "code",
   "execution_count": 10,
   "metadata": {},
   "outputs": [],
   "source": [
    "y.replace([0,1], [1,0], inplace=True)"
   ]
  },
  {
   "cell_type": "code",
   "execution_count": 11,
   "metadata": {},
   "outputs": [
    {
     "data": {
      "text/plain": [
       "1    0.7\n",
       "0    0.3\n",
       "Name: default, dtype: float64"
      ]
     },
     "execution_count": 11,
     "metadata": {},
     "output_type": "execute_result"
    }
   ],
   "source": [
    "y.value_counts(normalize = True)"
   ]
  },
  {
   "cell_type": "code",
   "execution_count": 12,
   "metadata": {},
   "outputs": [
    {
     "data": {
      "text/plain": [
       "1    700\n",
       "0    300\n",
       "Name: default, dtype: int64"
      ]
     },
     "execution_count": 12,
     "metadata": {},
     "output_type": "execute_result"
    }
   ],
   "source": [
    "y.value_counts(dropna=False)"
   ]
  },
  {
   "cell_type": "code",
   "execution_count": 13,
   "metadata": {},
   "outputs": [
    {
     "name": "stdout",
     "output_type": "stream",
     "text": [
      "other_debtors: 90.70%\n",
      "none            907\n",
      "guarantor        52\n",
      "co-applicant     41\n",
      "Name: other_debtors, dtype: int64\n",
      "\n",
      "foreign_worker: 96.30%\n",
      "yes    963\n",
      "no      37\n",
      "Name: foreign_worker, dtype: int64\n",
      "\n"
     ]
    }
   ],
   "source": [
    "num_rows = len(df.index)\n",
    "low_inf = []\n",
    "\n",
    "for col in df.columns:\n",
    "    cnts = df[col].value_counts(dropna=False)\n",
    "    top_pct = (cnts/num_rows).iloc[0]\n",
    "    \n",
    "    if top_pct > 0.90:\n",
    "        low_inf.append(col)\n",
    "        print('{0}: {1:.2f}%'.format(col, top_pct*100))\n",
    "        print(cnts)\n",
    "        print()"
   ]
  },
  {
   "cell_type": "code",
   "execution_count": 14,
   "metadata": {},
   "outputs": [
    {
     "name": "stdout",
     "output_type": "stream",
     "text": [
      "account_check_status : ['< 0 DM' '0 <= ... < 200 DM' 'no checking account'\n",
      " '>= 200 DM / salary assignments for at least 1 year']\n",
      "\n",
      "credit_history : ['critical account/ other credits existing (not at this bank)'\n",
      " 'existing credits paid back duly till now'\n",
      " 'delay in paying off in the past'\n",
      " 'no credits taken/ all credits paid back duly'\n",
      " 'all credits at this bank paid back duly']\n",
      "\n",
      "purpose : ['domestic appliances' '(vacation - does not exist?)' 'radio/television'\n",
      " 'car (new)' 'car (used)' 'business' 'repairs' 'education'\n",
      " 'furniture/equipment' 'retraining']\n",
      "\n",
      "savings : ['unknown/ no savings account' '... < 100 DM' '500 <= ... < 1000 DM '\n",
      " '.. >= 1000 DM ' '100 <= ... < 500 DM']\n",
      "\n",
      "present_emp_since : ['.. >= 7 years' '1 <= ... < 4 years' '4 <= ... < 7 years' 'unemployed'\n",
      " '... < 1 year ']\n",
      "\n",
      "personal_status_sex : ['male : single' 'female : divorced/separated/married'\n",
      " 'male : divorced/separated' 'male : married/widowed']\n",
      "\n",
      "other_debtors : ['none' 'guarantor' 'co-applicant']\n",
      "\n",
      "property : ['real estate'\n",
      " 'if not A121 : building society savings agreement/ life insurance'\n",
      " 'unknown / no property'\n",
      " 'if not A121/A122 : car or other, not in attribute 6']\n",
      "\n",
      "other_installment_plans : ['none' 'bank' 'stores']\n",
      "\n",
      "housing : ['own' 'for free' 'rent']\n",
      "\n",
      "job : ['skilled employee / official' 'unskilled - resident'\n",
      " 'management/ self-employed/ highly qualified employee/ officer'\n",
      " 'unemployed/ unskilled - non-resident']\n",
      "\n",
      "telephone : ['yes, registered under the customers name ' 'none']\n",
      "\n",
      "foreign_worker : ['yes' 'no']\n",
      "\n"
     ]
    }
   ],
   "source": [
    "for col in df.select_dtypes(include=[object]):\n",
    "    print(col,\":\", df[col].unique())\n",
    "    print()"
   ]
  },
  {
   "cell_type": "code",
   "execution_count": 15,
   "metadata": {},
   "outputs": [
    {
     "name": "stdout",
     "output_type": "stream",
     "text": [
      "default\n",
      "1    700\n",
      "0    300\n",
      "Name: default, dtype: int64\n",
      "\n",
      "account_check_status\n",
      "no checking account                                   394\n",
      "< 0 DM                                                274\n",
      "0 <= ... < 200 DM                                     269\n",
      ">= 200 DM / salary assignments for at least 1 year     63\n",
      "Name: account_check_status, dtype: int64\n",
      "\n",
      "duration_in_month\n",
      "24    184\n",
      "12    179\n",
      "18    113\n",
      "36     83\n",
      "6      75\n",
      "15     64\n",
      "9      49\n",
      "48     48\n",
      "30     40\n",
      "21     30\n",
      "10     28\n",
      "27     13\n",
      "60     13\n",
      "42     11\n",
      "11      9\n",
      "20      8\n",
      "8       7\n",
      "4       6\n",
      "39      5\n",
      "45      5\n",
      "7       5\n",
      "14      4\n",
      "13      4\n",
      "33      3\n",
      "28      3\n",
      "22      2\n",
      "16      2\n",
      "54      2\n",
      "26      1\n",
      "40      1\n",
      "47      1\n",
      "5       1\n",
      "72      1\n",
      "Name: duration_in_month, dtype: int64\n",
      "\n",
      "credit_history\n",
      "existing credits paid back duly till now                       530\n",
      "critical account/ other credits existing (not at this bank)    293\n",
      "delay in paying off in the past                                 88\n",
      "all credits at this bank paid back duly                         49\n",
      "no credits taken/ all credits paid back duly                    40\n",
      "Name: credit_history, dtype: int64\n",
      "\n",
      "purpose\n",
      "domestic appliances             280\n",
      "car (new)                       234\n",
      "radio/television                181\n",
      "car (used)                      103\n",
      "business                         97\n",
      "(vacation - does not exist?)     50\n",
      "education                        22\n",
      "furniture/equipment              12\n",
      "repairs                          12\n",
      "retraining                        9\n",
      "Name: purpose, dtype: int64\n",
      "\n",
      "credit_amount\n",
      "1258    3\n",
      "1478    3\n",
      "1275    3\n",
      "1393    3\n",
      "1262    3\n",
      "       ..\n",
      "1345    1\n",
      "1343    1\n",
      "7485    1\n",
      "3345    1\n",
      "2051    1\n",
      "Name: credit_amount, Length: 921, dtype: int64\n",
      "\n",
      "savings\n",
      "... < 100 DM                   603\n",
      "unknown/ no savings account    183\n",
      "100 <= ... < 500 DM            103\n",
      "500 <= ... < 1000 DM            63\n",
      ".. >= 1000 DM                   48\n",
      "Name: savings, dtype: int64\n",
      "\n",
      "present_emp_since\n",
      "1 <= ... < 4 years    339\n",
      ".. >= 7 years         253\n",
      "4 <= ... < 7 years    174\n",
      "... < 1 year          172\n",
      "unemployed             62\n",
      "Name: present_emp_since, dtype: int64\n",
      "\n",
      "installment_as_income_perc\n",
      "4    476\n",
      "2    231\n",
      "3    157\n",
      "1    136\n",
      "Name: installment_as_income_perc, dtype: int64\n",
      "\n",
      "personal_status_sex\n",
      "male : single                          548\n",
      "female : divorced/separated/married    310\n",
      "male : married/widowed                  92\n",
      "male : divorced/separated               50\n",
      "Name: personal_status_sex, dtype: int64\n",
      "\n",
      "other_debtors\n",
      "none            907\n",
      "guarantor        52\n",
      "co-applicant     41\n",
      "Name: other_debtors, dtype: int64\n",
      "\n",
      "present_res_since\n",
      "4    413\n",
      "2    308\n",
      "3    149\n",
      "1    130\n",
      "Name: present_res_since, dtype: int64\n",
      "\n",
      "property\n",
      "if not A121/A122 : car or other, not in attribute 6                 332\n",
      "real estate                                                         282\n",
      "if not A121 : building society savings agreement/ life insurance    232\n",
      "unknown / no property                                               154\n",
      "Name: property, dtype: int64\n",
      "\n",
      "age\n",
      "27    51\n",
      "26    50\n",
      "23    48\n",
      "24    44\n",
      "28    43\n",
      "25    41\n",
      "35    40\n",
      "30    40\n",
      "36    39\n",
      "31    38\n",
      "29    37\n",
      "32    34\n",
      "33    33\n",
      "34    32\n",
      "37    29\n",
      "22    27\n",
      "40    25\n",
      "38    24\n",
      "42    22\n",
      "39    21\n",
      "46    18\n",
      "41    17\n",
      "43    17\n",
      "44    17\n",
      "47    17\n",
      "45    15\n",
      "21    14\n",
      "49    14\n",
      "20    14\n",
      "48    12\n",
      "50    12\n",
      "54    10\n",
      "52     9\n",
      "57     9\n",
      "55     8\n",
      "63     8\n",
      "51     8\n",
      "53     7\n",
      "61     7\n",
      "60     6\n",
      "58     5\n",
      "64     5\n",
      "65     5\n",
      "66     5\n",
      "74     4\n",
      "67     3\n",
      "68     3\n",
      "56     3\n",
      "59     3\n",
      "75     2\n",
      "62     2\n",
      "19     2\n",
      "70     1\n",
      "Name: age, dtype: int64\n",
      "\n",
      "other_installment_plans\n",
      "none      814\n",
      "bank      139\n",
      "stores     47\n",
      "Name: other_installment_plans, dtype: int64\n",
      "\n",
      "housing\n",
      "own         713\n",
      "rent        179\n",
      "for free    108\n",
      "Name: housing, dtype: int64\n",
      "\n",
      "credits_this_bank\n",
      "1    633\n",
      "2    333\n",
      "3     28\n",
      "4      6\n",
      "Name: credits_this_bank, dtype: int64\n",
      "\n",
      "job\n",
      "skilled employee / official                                      630\n",
      "unskilled - resident                                             200\n",
      "management/ self-employed/ highly qualified employee/ officer    148\n",
      "unemployed/ unskilled - non-resident                              22\n",
      "Name: job, dtype: int64\n",
      "\n",
      "people_under_maintenance\n",
      "1    845\n",
      "2    155\n",
      "Name: people_under_maintenance, dtype: int64\n",
      "\n",
      "telephone\n",
      "none                                         596\n",
      "yes, registered under the customers name     404\n",
      "Name: telephone, dtype: int64\n",
      "\n",
      "foreign_worker\n",
      "yes    963\n",
      "no      37\n",
      "Name: foreign_worker, dtype: int64\n",
      "\n"
     ]
    }
   ],
   "source": [
    "feature_names = df.columns.tolist() \n",
    "for column in feature_names: \n",
    "    print(column) \n",
    "    print(df[column].value_counts(dropna=False))\n",
    "    print()"
   ]
  },
  {
   "cell_type": "code",
   "execution_count": 16,
   "metadata": {
    "scrolled": false
   },
   "outputs": [
    {
     "name": "stdout",
     "output_type": "stream",
     "text": [
      "duration_in_month            -0.214927\n",
      "credit_amount                -0.154739\n",
      "installment_as_income_perc   -0.072404\n",
      "present_res_since            -0.002967\n",
      "people_under_maintenance      0.003015\n",
      "credits_this_bank             0.045732\n",
      "age                           0.091127\n",
      "default                       1.000000\n",
      "Name: default, dtype: float64\n"
     ]
    }
   ],
   "source": [
    "correl = df.corr()['default'].sort_values()\n",
    "print(correl)"
   ]
  },
  {
   "cell_type": "code",
   "execution_count": 17,
   "metadata": {
    "scrolled": false
   },
   "outputs": [
    {
     "data": {
      "text/plain": [
       "<matplotlib.axes._subplots.AxesSubplot at 0x1609ac5ec88>"
      ]
     },
     "execution_count": 17,
     "metadata": {},
     "output_type": "execute_result"
    },
    {
     "data": {
      "image/png": "[encoded data removed]",
      "text/plain": [
       "<Figure size 864x648 with 2 Axes>"
      ]
     },
     "metadata": {
      "needs_background": "light"
     },
     "output_type": "display_data"
    }
   ],
   "source": [
    "Corr = X.corr()\n",
    "sns.heatmap(Corr, annot = True, fmt = '.2f')"
   ]
  },
  {
   "cell_type": "code",
   "execution_count": 18,
   "metadata": {},
   "outputs": [
    {
     "data": {
      "image/png": "[encoded data removed]",
      "text/plain": [
       "<Figure size 864x648 with 1 Axes>"
      ]
     },
     "metadata": {},
     "output_type": "display_data"
    }
   ],
   "source": [
    "plt.style.use('fivethirtyeight')\n",
    "plt.hist(X['age'].dropna(), bins = 50, edgecolor = 'k');\n",
    "plt.xlabel('года'); plt.ylabel('количество человек'); \n",
    "plt.title('Возраст');"
   ]
  },
  {
   "cell_type": "code",
   "execution_count": 19,
   "metadata": {},
   "outputs": [
    {
     "data": {
      "text/plain": [
       "default                       0\n",
       "account_check_status          0\n",
       "duration_in_month             0\n",
       "credit_history                0\n",
       "purpose                       0\n",
       "credit_amount                 0\n",
       "savings                       0\n",
       "present_emp_since             0\n",
       "installment_as_income_perc    0\n",
       "personal_status_sex           0\n",
       "other_debtors                 0\n",
       "present_res_since             0\n",
       "property                      0\n",
       "age                           0\n",
       "other_installment_plans       0\n",
       "housing                       0\n",
       "credits_this_bank             0\n",
       "job                           0\n",
       "people_under_maintenance      0\n",
       "telephone                     0\n",
       "foreign_worker                0\n",
       "dtype: int64"
      ]
     },
     "execution_count": 19,
     "metadata": {},
     "output_type": "execute_result"
    }
   ],
   "source": [
    "df.isnull().sum()"
   ]
  },
  {
   "cell_type": "code",
   "execution_count": 20,
   "metadata": {},
   "outputs": [],
   "source": [
    "X.drop(['foreign_worker'], axis = 1, inplace = True)\n",
    "X.drop(['other_debtors'], axis = 1, inplace = True)\n",
    "X.drop(['people_under_maintenance'], axis = 1, inplace = True)\n",
    "X.drop(['credits_this_bank'], axis = 1, inplace = True)"
   ]
  },
  {
   "cell_type": "code",
   "execution_count": 21,
   "metadata": {
    "scrolled": true
   },
   "outputs": [
    {
     "data": {
      "text/plain": [
       "<bound method NDFrame.head of     account_check_status  duration_in_month  \\\n",
       "0                 < 0 DM                  6   \n",
       "1      0 <= ... < 200 DM                 48   \n",
       "2    no checking account                 12   \n",
       "3                 < 0 DM                 42   \n",
       "4                 < 0 DM                 24   \n",
       "..                   ...                ...   \n",
       "995  no checking account                 12   \n",
       "996               < 0 DM                 30   \n",
       "997  no checking account                 12   \n",
       "998               < 0 DM                 45   \n",
       "999    0 <= ... < 200 DM                 45   \n",
       "\n",
       "                                        credit_history  \\\n",
       "0    critical account/ other credits existing (not ...   \n",
       "1             existing credits paid back duly till now   \n",
       "2    critical account/ other credits existing (not ...   \n",
       "3             existing credits paid back duly till now   \n",
       "4                      delay in paying off in the past   \n",
       "..                                                 ...   \n",
       "995           existing credits paid back duly till now   \n",
       "996           existing credits paid back duly till now   \n",
       "997           existing credits paid back duly till now   \n",
       "998           existing credits paid back duly till now   \n",
       "999  critical account/ other credits existing (not ...   \n",
       "\n",
       "                          purpose  credit_amount                      savings  \\\n",
       "0             domestic appliances           1169  unknown/ no savings account   \n",
       "1             domestic appliances           5951                 ... < 100 DM   \n",
       "2    (vacation - does not exist?)           2096                 ... < 100 DM   \n",
       "3                radio/television           7882                 ... < 100 DM   \n",
       "4                       car (new)           4870                 ... < 100 DM   \n",
       "..                            ...            ...                          ...   \n",
       "995              radio/television           1736                 ... < 100 DM   \n",
       "996                    car (used)           3857                 ... < 100 DM   \n",
       "997           domestic appliances            804                 ... < 100 DM   \n",
       "998           domestic appliances           1845                 ... < 100 DM   \n",
       "999                    car (used)           4576          100 <= ... < 500 DM   \n",
       "\n",
       "      present_emp_since  installment_as_income_perc  \\\n",
       "0         .. >= 7 years                           4   \n",
       "1    1 <= ... < 4 years                           2   \n",
       "2    4 <= ... < 7 years                           2   \n",
       "3    4 <= ... < 7 years                           2   \n",
       "4    1 <= ... < 4 years                           3   \n",
       "..                  ...                         ...   \n",
       "995  4 <= ... < 7 years                           3   \n",
       "996  1 <= ... < 4 years                           4   \n",
       "997       .. >= 7 years                           4   \n",
       "998  1 <= ... < 4 years                           4   \n",
       "999          unemployed                           3   \n",
       "\n",
       "                     personal_status_sex  present_res_since  \\\n",
       "0                          male : single                  4   \n",
       "1    female : divorced/separated/married                  2   \n",
       "2                          male : single                  3   \n",
       "3                          male : single                  4   \n",
       "4                          male : single                  4   \n",
       "..                                   ...                ...   \n",
       "995  female : divorced/separated/married                  4   \n",
       "996            male : divorced/separated                  4   \n",
       "997                        male : single                  4   \n",
       "998                        male : single                  4   \n",
       "999                        male : single                  4   \n",
       "\n",
       "                                              property  age  \\\n",
       "0                                          real estate   67   \n",
       "1                                          real estate   22   \n",
       "2                                          real estate   49   \n",
       "3    if not A121 : building society savings agreeme...   45   \n",
       "4                                unknown / no property   53   \n",
       "..                                                 ...  ...   \n",
       "995                                        real estate   31   \n",
       "996  if not A121 : building society savings agreeme...   40   \n",
       "997  if not A121/A122 : car or other, not in attrib...   38   \n",
       "998                              unknown / no property   23   \n",
       "999  if not A121/A122 : car or other, not in attrib...   27   \n",
       "\n",
       "    other_installment_plans   housing  \\\n",
       "0                      none       own   \n",
       "1                      none       own   \n",
       "2                      none       own   \n",
       "3                      none  for free   \n",
       "4                      none  for free   \n",
       "..                      ...       ...   \n",
       "995                    none       own   \n",
       "996                    none       own   \n",
       "997                    none       own   \n",
       "998                    none  for free   \n",
       "999                    none       own   \n",
       "\n",
       "                                                   job  \\\n",
       "0                          skilled employee / official   \n",
       "1                          skilled employee / official   \n",
       "2                                 unskilled - resident   \n",
       "3                          skilled employee / official   \n",
       "4                          skilled employee / official   \n",
       "..                                                 ...   \n",
       "995                               unskilled - resident   \n",
       "996  management/ self-employed/ highly qualified em...   \n",
       "997                        skilled employee / official   \n",
       "998                        skilled employee / official   \n",
       "999                        skilled employee / official   \n",
       "\n",
       "                                     telephone  \n",
       "0    yes, registered under the customers name   \n",
       "1                                         none  \n",
       "2                                         none  \n",
       "3                                         none  \n",
       "4                                         none  \n",
       "..                                         ...  \n",
       "995                                       none  \n",
       "996  yes, registered under the customers name   \n",
       "997                                       none  \n",
       "998  yes, registered under the customers name   \n",
       "999                                       none  \n",
       "\n",
       "[1000 rows x 16 columns]>"
      ]
     },
     "execution_count": 21,
     "metadata": {},
     "output_type": "execute_result"
    }
   ],
   "source": [
    "X.head"
   ]
  },
  {
   "cell_type": "code",
   "execution_count": 22,
   "metadata": {},
   "outputs": [],
   "source": [
    "from sklearn.preprocessing import LabelEncoder"
   ]
  },
  {
   "cell_type": "code",
   "execution_count": 23,
   "metadata": {},
   "outputs": [],
   "source": [
    "LE = LabelEncoder()\n",
    "X[\"account_check_status\"] = LE.fit_transform(X[\"account_check_status\"])\n",
    "X[\"credit_history\"] = LE.fit_transform(X[\"credit_history\"])\n",
    "X[\"purpose\"] = LE.fit_transform(X[\"purpose\"])\n",
    "X[\"savings\"] = LE.fit_transform(X[\"savings\"])\n",
    "X[\"present_emp_since\"] = LE.fit_transform(X[\"present_emp_since\"])\n",
    "X[\"personal_status_sex\"] = LE.fit_transform(X[\"personal_status_sex\"])\n",
    "X[\"property\"] = LE.fit_transform(X[\"property\"])\n",
    "X[\"other_installment_plans\"] = LE.fit_transform(X[\"other_installment_plans\"])\n",
    "X[\"housing\"] = LE.fit_transform(X[\"housing\"])\n",
    "X[\"job\"] = LE.fit_transform(X[\"job\"])\n",
    "X[\"telephone\"] = LE.fit_transform(X[\"telephone\"])"
   ]
  },
  {
   "cell_type": "code",
   "execution_count": 24,
   "metadata": {
    "scrolled": true
   },
   "outputs": [
    {
     "data": {
      "text/html": [
       "<div>\n",
       "<style scoped>\n",
       "    .dataframe tbody tr th:only-of-type {\n",
       "        vertical-align: middle;\n",
       "    }\n",
       "\n",
       "    .dataframe tbody tr th {\n",
       "        vertical-align: top;\n",
       "    }\n",
       "\n",
       "    .dataframe thead th {\n",
       "        text-align: right;\n",
       "    }\n",
       "</style>\n",
       "<table border=\"1\" class=\"dataframe\">\n",
       "  <thead>\n",
       "    <tr style=\"text-align: right;\">\n",
       "      <th></th>\n",
       "      <th>account_check_status</th>\n",
       "      <th>duration_in_month</th>\n",
       "      <th>credit_history</th>\n",
       "      <th>purpose</th>\n",
       "      <th>credit_amount</th>\n",
       "      <th>savings</th>\n",
       "      <th>present_emp_since</th>\n",
       "      <th>installment_as_income_perc</th>\n",
       "      <th>personal_status_sex</th>\n",
       "      <th>present_res_since</th>\n",
       "      <th>property</th>\n",
       "      <th>age</th>\n",
       "      <th>other_installment_plans</th>\n",
       "      <th>housing</th>\n",
       "      <th>job</th>\n",
       "      <th>telephone</th>\n",
       "    </tr>\n",
       "  </thead>\n",
       "  <tbody>\n",
       "    <tr>\n",
       "      <td>0</td>\n",
       "      <td>1</td>\n",
       "      <td>6</td>\n",
       "      <td>1</td>\n",
       "      <td>4</td>\n",
       "      <td>1169</td>\n",
       "      <td>4</td>\n",
       "      <td>0</td>\n",
       "      <td>4</td>\n",
       "      <td>3</td>\n",
       "      <td>4</td>\n",
       "      <td>2</td>\n",
       "      <td>67</td>\n",
       "      <td>1</td>\n",
       "      <td>1</td>\n",
       "      <td>1</td>\n",
       "      <td>1</td>\n",
       "    </tr>\n",
       "    <tr>\n",
       "      <td>1</td>\n",
       "      <td>0</td>\n",
       "      <td>48</td>\n",
       "      <td>3</td>\n",
       "      <td>4</td>\n",
       "      <td>5951</td>\n",
       "      <td>1</td>\n",
       "      <td>2</td>\n",
       "      <td>2</td>\n",
       "      <td>0</td>\n",
       "      <td>2</td>\n",
       "      <td>2</td>\n",
       "      <td>22</td>\n",
       "      <td>1</td>\n",
       "      <td>1</td>\n",
       "      <td>1</td>\n",
       "      <td>0</td>\n",
       "    </tr>\n",
       "    <tr>\n",
       "      <td>2</td>\n",
       "      <td>3</td>\n",
       "      <td>12</td>\n",
       "      <td>1</td>\n",
       "      <td>0</td>\n",
       "      <td>2096</td>\n",
       "      <td>1</td>\n",
       "      <td>3</td>\n",
       "      <td>2</td>\n",
       "      <td>3</td>\n",
       "      <td>3</td>\n",
       "      <td>2</td>\n",
       "      <td>49</td>\n",
       "      <td>1</td>\n",
       "      <td>1</td>\n",
       "      <td>3</td>\n",
       "      <td>0</td>\n",
       "    </tr>\n",
       "    <tr>\n",
       "      <td>3</td>\n",
       "      <td>1</td>\n",
       "      <td>42</td>\n",
       "      <td>3</td>\n",
       "      <td>7</td>\n",
       "      <td>7882</td>\n",
       "      <td>1</td>\n",
       "      <td>3</td>\n",
       "      <td>2</td>\n",
       "      <td>3</td>\n",
       "      <td>4</td>\n",
       "      <td>0</td>\n",
       "      <td>45</td>\n",
       "      <td>1</td>\n",
       "      <td>0</td>\n",
       "      <td>1</td>\n",
       "      <td>0</td>\n",
       "    </tr>\n",
       "    <tr>\n",
       "      <td>4</td>\n",
       "      <td>1</td>\n",
       "      <td>24</td>\n",
       "      <td>2</td>\n",
       "      <td>2</td>\n",
       "      <td>4870</td>\n",
       "      <td>1</td>\n",
       "      <td>2</td>\n",
       "      <td>3</td>\n",
       "      <td>3</td>\n",
       "      <td>4</td>\n",
       "      <td>3</td>\n",
       "      <td>53</td>\n",
       "      <td>1</td>\n",
       "      <td>0</td>\n",
       "      <td>1</td>\n",
       "      <td>0</td>\n",
       "    </tr>\n",
       "  </tbody>\n",
       "</table>\n",
       "</div>"
      ],
      "text/plain": [
       "   account_check_status  duration_in_month  credit_history  purpose  \\\n",
       "0                     1                  6               1        4   \n",
       "1                     0                 48               3        4   \n",
       "2                     3                 12               1        0   \n",
       "3                     1                 42               3        7   \n",
       "4                     1                 24               2        2   \n",
       "\n",
       "   credit_amount  savings  present_emp_since  installment_as_income_perc  \\\n",
       "0           1169        4                  0                           4   \n",
       "1           5951        1                  2                           2   \n",
       "2           2096        1                  3                           2   \n",
       "3           7882        1                  3                           2   \n",
       "4           4870        1                  2                           3   \n",
       "\n",
       "   personal_status_sex  present_res_since  property  age  \\\n",
       "0                    3                  4         2   67   \n",
       "1                    0                  2         2   22   \n",
       "2                    3                  3         2   49   \n",
       "3                    3                  4         0   45   \n",
       "4                    3                  4         3   53   \n",
       "\n",
       "   other_installment_plans  housing  job  telephone  \n",
       "0                        1        1    1          1  \n",
       "1                        1        1    1          0  \n",
       "2                        1        1    3          0  \n",
       "3                        1        0    1          0  \n",
       "4                        1        0    1          0  "
      ]
     },
     "execution_count": 24,
     "metadata": {},
     "output_type": "execute_result"
    }
   ],
   "source": [
    "X.head()"
   ]
  },
  {
   "cell_type": "code",
   "execution_count": 25,
   "metadata": {},
   "outputs": [
    {
     "data": {
      "text/plain": [
       "account_check_status          0\n",
       "duration_in_month             0\n",
       "credit_history                0\n",
       "purpose                       0\n",
       "credit_amount                 0\n",
       "savings                       0\n",
       "present_emp_since             0\n",
       "installment_as_income_perc    0\n",
       "personal_status_sex           0\n",
       "present_res_since             0\n",
       "property                      0\n",
       "age                           0\n",
       "other_installment_plans       0\n",
       "housing                       0\n",
       "job                           0\n",
       "telephone                     0\n",
       "dtype: int64"
      ]
     },
     "execution_count": 25,
     "metadata": {},
     "output_type": "execute_result"
    }
   ],
   "source": [
    "X.isnull().sum()"
   ]
  },
  {
   "cell_type": "code",
   "execution_count": 26,
   "metadata": {},
   "outputs": [],
   "source": [
    "from sklearn.model_selection import train_test_split"
   ]
  },
  {
   "cell_type": "code",
   "execution_count": 27,
   "metadata": {},
   "outputs": [],
   "source": [
    "X_train, X_test, y_train, y_test = train_test_split(X, y, test_size = 0.2, random_state = 42, stratify = df['default'])"
   ]
  },
  {
   "cell_type": "code",
   "execution_count": 28,
   "metadata": {},
   "outputs": [
    {
     "data": {
      "text/plain": [
       "((800, 16), (200, 16), (800,), (200,))"
      ]
     },
     "execution_count": 28,
     "metadata": {},
     "output_type": "execute_result"
    }
   ],
   "source": [
    "X_train.shape, X_test.shape, y_train.shape, y_test.shape"
   ]
  },
  {
   "cell_type": "code",
   "execution_count": 29,
   "metadata": {
    "scrolled": true
   },
   "outputs": [
    {
     "data": {
      "text/plain": [
       "1    0.7\n",
       "0    0.3\n",
       "Name: default, dtype: float64"
      ]
     },
     "execution_count": 29,
     "metadata": {},
     "output_type": "execute_result"
    }
   ],
   "source": [
    "y_train.value_counts(normalize = True)"
   ]
  },
  {
   "cell_type": "code",
   "execution_count": 30,
   "metadata": {},
   "outputs": [
    {
     "data": {
      "text/plain": [
       "1    0.7\n",
       "0    0.3\n",
       "Name: default, dtype: float64"
      ]
     },
     "execution_count": 30,
     "metadata": {},
     "output_type": "execute_result"
    }
   ],
   "source": [
    "y_test.value_counts(normalize = True)"
   ]
  },
  {
   "cell_type": "code",
   "execution_count": 31,
   "metadata": {},
   "outputs": [],
   "source": [
    "from sklearn.neighbors import KNeighborsClassifier"
   ]
  },
  {
   "cell_type": "code",
   "execution_count": 32,
   "metadata": {},
   "outputs": [],
   "source": [
    "knn = KNeighborsClassifier(n_neighbors=13)"
   ]
  },
  {
   "cell_type": "code",
   "execution_count": 33,
   "metadata": {},
   "outputs": [
    {
     "data": {
      "text/plain": [
       "KNeighborsClassifier(algorithm='auto', leaf_size=30, metric='minkowski',\n",
       "                     metric_params=None, n_jobs=None, n_neighbors=13, p=2,\n",
       "                     weights='uniform')"
      ]
     },
     "execution_count": 33,
     "metadata": {},
     "output_type": "execute_result"
    }
   ],
   "source": [
    "knn.fit(X_train, y_train)"
   ]
  },
  {
   "cell_type": "code",
   "execution_count": 34,
   "metadata": {},
   "outputs": [
    {
     "data": {
      "text/plain": [
       "0.72625"
      ]
     },
     "execution_count": 34,
     "metadata": {},
     "output_type": "execute_result"
    }
   ],
   "source": [
    "knn.score(X_train, y_train)"
   ]
  },
  {
   "cell_type": "code",
   "execution_count": 35,
   "metadata": {},
   "outputs": [
    {
     "data": {
      "text/plain": [
       "0.715"
      ]
     },
     "execution_count": 35,
     "metadata": {},
     "output_type": "execute_result"
    }
   ],
   "source": [
    "knn.score(X_test, y_test)"
   ]
  },
  {
   "cell_type": "code",
   "execution_count": 36,
   "metadata": {},
   "outputs": [],
   "source": [
    "from sklearn import tree"
   ]
  },
  {
   "cell_type": "code",
   "execution_count": 37,
   "metadata": {},
   "outputs": [],
   "source": [
    "clf = tree.DecisionTreeClassifier(criterion = 'entropy')"
   ]
  },
  {
   "cell_type": "code",
   "execution_count": 38,
   "metadata": {},
   "outputs": [
    {
     "data": {
      "text/plain": [
       "DecisionTreeClassifier(class_weight=None, criterion='entropy', max_depth=None,\n",
       "                       max_features=None, max_leaf_nodes=None,\n",
       "                       min_impurity_decrease=0.0, min_impurity_split=None,\n",
       "                       min_samples_leaf=1, min_samples_split=2,\n",
       "                       min_weight_fraction_leaf=0.0, presort=False,\n",
       "                       random_state=None, splitter='best')"
      ]
     },
     "execution_count": 38,
     "metadata": {},
     "output_type": "execute_result"
    }
   ],
   "source": [
    "clf.fit(X_train, y_train)"
   ]
  },
  {
   "cell_type": "code",
   "execution_count": 39,
   "metadata": {},
   "outputs": [
    {
     "data": {
      "text/plain": [
       "1.0"
      ]
     },
     "execution_count": 39,
     "metadata": {},
     "output_type": "execute_result"
    }
   ],
   "source": [
    "clf.score(X_train, y_train)"
   ]
  },
  {
   "cell_type": "code",
   "execution_count": 40,
   "metadata": {},
   "outputs": [
    {
     "data": {
      "text/plain": [
       "0.715"
      ]
     },
     "execution_count": 40,
     "metadata": {},
     "output_type": "execute_result"
    }
   ],
   "source": [
    "clf.score(X_test, y_test)"
   ]
  },
  {
   "cell_type": "code",
   "execution_count": 41,
   "metadata": {},
   "outputs": [],
   "source": [
    "clf = tree.DecisionTreeClassifier(criterion = 'entropy', max_depth = 5)"
   ]
  },
  {
   "cell_type": "code",
   "execution_count": 42,
   "metadata": {},
   "outputs": [
    {
     "data": {
      "text/plain": [
       "DecisionTreeClassifier(class_weight=None, criterion='entropy', max_depth=5,\n",
       "                       max_features=None, max_leaf_nodes=None,\n",
       "                       min_impurity_decrease=0.0, min_impurity_split=None,\n",
       "                       min_samples_leaf=1, min_samples_split=2,\n",
       "                       min_weight_fraction_leaf=0.0, presort=False,\n",
       "                       random_state=None, splitter='best')"
      ]
     },
     "execution_count": 42,
     "metadata": {},
     "output_type": "execute_result"
    }
   ],
   "source": [
    "clf.fit(X_train, y_train)"
   ]
  },
  {
   "cell_type": "code",
   "execution_count": 43,
   "metadata": {},
   "outputs": [
    {
     "data": {
      "text/plain": [
       "0.79"
      ]
     },
     "execution_count": 43,
     "metadata": {},
     "output_type": "execute_result"
    }
   ],
   "source": [
    "clf.score(X_train, y_train)"
   ]
  },
  {
   "cell_type": "code",
   "execution_count": 44,
   "metadata": {},
   "outputs": [
    {
     "data": {
      "text/plain": [
       "0.745"
      ]
     },
     "execution_count": 44,
     "metadata": {},
     "output_type": "execute_result"
    }
   ],
   "source": [
    "clf.score(X_test, y_test)"
   ]
  },
  {
   "cell_type": "code",
   "execution_count": 45,
   "metadata": {},
   "outputs": [],
   "source": [
    "max_depth_values = range(1, 30)\n",
    "scores_df = pd.DataFrame()"
   ]
  },
  {
   "cell_type": "code",
   "execution_count": 46,
   "metadata": {},
   "outputs": [],
   "source": [
    "from sklearn.model_selection import cross_val_score"
   ]
  },
  {
   "cell_type": "code",
   "execution_count": 47,
   "metadata": {},
   "outputs": [],
   "source": [
    "for max_depth in max_depth_values:\n",
    "    clf = tree.DecisionTreeClassifier(criterion = 'entropy', max_depth = max_depth)\n",
    "    clf.fit(X_train, y_train)\n",
    "    train_score = clf.score(X_train, y_train)\n",
    "    test_score = clf.score(X_test, y_test)\n",
    "\n",
    "    mean_cross_val_score = cross_val_score(clf, X_train, y_train, cv = 5).mean()\n",
    "    \n",
    "    temp_score_df = pd.DataFrame({'max_depth': [max_depth],\n",
    "                                    'train_score': [train_score],\n",
    "                                    'test_score': [test_score],\n",
    "                                    'cross_val_score': [mean_cross_val_score]})\n",
    "    scores_df = scores_df.append(temp_score_df, sort=False)"
   ]
  },
  {
   "cell_type": "code",
   "execution_count": 48,
   "metadata": {
    "scrolled": false
   },
   "outputs": [
    {
     "data": {
      "text/html": [
       "<div>\n",
       "<style scoped>\n",
       "    .dataframe tbody tr th:only-of-type {\n",
       "        vertical-align: middle;\n",
       "    }\n",
       "\n",
       "    .dataframe tbody tr th {\n",
       "        vertical-align: top;\n",
       "    }\n",
       "\n",
       "    .dataframe thead th {\n",
       "        text-align: right;\n",
       "    }\n",
       "</style>\n",
       "<table border=\"1\" class=\"dataframe\">\n",
       "  <thead>\n",
       "    <tr style=\"text-align: right;\">\n",
       "      <th></th>\n",
       "      <th>max_depth</th>\n",
       "      <th>train_score</th>\n",
       "      <th>test_score</th>\n",
       "      <th>cross_val_score</th>\n",
       "    </tr>\n",
       "  </thead>\n",
       "  <tbody>\n",
       "    <tr>\n",
       "      <td>0</td>\n",
       "      <td>1</td>\n",
       "      <td>0.70000</td>\n",
       "      <td>0.700</td>\n",
       "      <td>0.70000</td>\n",
       "    </tr>\n",
       "    <tr>\n",
       "      <td>0</td>\n",
       "      <td>2</td>\n",
       "      <td>0.70000</td>\n",
       "      <td>0.700</td>\n",
       "      <td>0.69750</td>\n",
       "    </tr>\n",
       "    <tr>\n",
       "      <td>0</td>\n",
       "      <td>3</td>\n",
       "      <td>0.73875</td>\n",
       "      <td>0.720</td>\n",
       "      <td>0.69375</td>\n",
       "    </tr>\n",
       "    <tr>\n",
       "      <td>0</td>\n",
       "      <td>4</td>\n",
       "      <td>0.77875</td>\n",
       "      <td>0.720</td>\n",
       "      <td>0.71250</td>\n",
       "    </tr>\n",
       "    <tr>\n",
       "      <td>0</td>\n",
       "      <td>5</td>\n",
       "      <td>0.79000</td>\n",
       "      <td>0.745</td>\n",
       "      <td>0.73000</td>\n",
       "    </tr>\n",
       "    <tr>\n",
       "      <td>0</td>\n",
       "      <td>6</td>\n",
       "      <td>0.81125</td>\n",
       "      <td>0.750</td>\n",
       "      <td>0.70500</td>\n",
       "    </tr>\n",
       "    <tr>\n",
       "      <td>0</td>\n",
       "      <td>7</td>\n",
       "      <td>0.83125</td>\n",
       "      <td>0.705</td>\n",
       "      <td>0.69500</td>\n",
       "    </tr>\n",
       "  </tbody>\n",
       "</table>\n",
       "</div>"
      ],
      "text/plain": [
       "   max_depth  train_score  test_score  cross_val_score\n",
       "0          1      0.70000       0.700          0.70000\n",
       "0          2      0.70000       0.700          0.69750\n",
       "0          3      0.73875       0.720          0.69375\n",
       "0          4      0.77875       0.720          0.71250\n",
       "0          5      0.79000       0.745          0.73000\n",
       "0          6      0.81125       0.750          0.70500\n",
       "0          7      0.83125       0.705          0.69500"
      ]
     },
     "execution_count": 48,
     "metadata": {},
     "output_type": "execute_result"
    }
   ],
   "source": [
    "scores_df.head(7)"
   ]
  },
  {
   "cell_type": "code",
   "execution_count": 49,
   "metadata": {},
   "outputs": [],
   "source": [
    "scores_df_long = pd.melt(scores_df, id_vars = ['max_depth'], value_vars = [\"train_score\", 'test_score',  \n",
    "                                        'cross_val_score'],var_name = 'set_type', value_name = 'score')"
   ]
  },
  {
   "cell_type": "code",
   "execution_count": 50,
   "metadata": {
    "scrolled": false
   },
   "outputs": [
    {
     "data": {
      "text/plain": [
       "<matplotlib.axes._subplots.AxesSubplot at 0x1609f0485c8>"
      ]
     },
     "execution_count": 50,
     "metadata": {},
     "output_type": "execute_result"
    },
    {
     "data": {
      "image/png": "[encoded data removed]",
      "text/plain": [
       "<Figure size 864x648 with 1 Axes>"
      ]
     },
     "metadata": {},
     "output_type": "display_data"
    }
   ],
   "source": [
    "sns.lineplot(x = 'max_depth', y = 'score', hue = 'set_type', data = scores_df_long)"
   ]
  },
  {
   "cell_type": "code",
   "execution_count": 51,
   "metadata": {},
   "outputs": [
    {
     "data": {
      "text/html": [
       "<div>\n",
       "<style scoped>\n",
       "    .dataframe tbody tr th:only-of-type {\n",
       "        vertical-align: middle;\n",
       "    }\n",
       "\n",
       "    .dataframe tbody tr th {\n",
       "        vertical-align: top;\n",
       "    }\n",
       "\n",
       "    .dataframe thead th {\n",
       "        text-align: right;\n",
       "    }\n",
       "</style>\n",
       "<table border=\"1\" class=\"dataframe\">\n",
       "  <thead>\n",
       "    <tr style=\"text-align: right;\">\n",
       "      <th></th>\n",
       "      <th>max_depth</th>\n",
       "      <th>set_type</th>\n",
       "      <th>score</th>\n",
       "    </tr>\n",
       "  </thead>\n",
       "  <tbody>\n",
       "    <tr>\n",
       "      <td>58</td>\n",
       "      <td>1</td>\n",
       "      <td>cross_val_score</td>\n",
       "      <td>0.70000</td>\n",
       "    </tr>\n",
       "    <tr>\n",
       "      <td>59</td>\n",
       "      <td>2</td>\n",
       "      <td>cross_val_score</td>\n",
       "      <td>0.69750</td>\n",
       "    </tr>\n",
       "    <tr>\n",
       "      <td>60</td>\n",
       "      <td>3</td>\n",
       "      <td>cross_val_score</td>\n",
       "      <td>0.69375</td>\n",
       "    </tr>\n",
       "    <tr>\n",
       "      <td>61</td>\n",
       "      <td>4</td>\n",
       "      <td>cross_val_score</td>\n",
       "      <td>0.71250</td>\n",
       "    </tr>\n",
       "    <tr>\n",
       "      <td>62</td>\n",
       "      <td>5</td>\n",
       "      <td>cross_val_score</td>\n",
       "      <td>0.73000</td>\n",
       "    </tr>\n",
       "    <tr>\n",
       "      <td>63</td>\n",
       "      <td>6</td>\n",
       "      <td>cross_val_score</td>\n",
       "      <td>0.70500</td>\n",
       "    </tr>\n",
       "    <tr>\n",
       "      <td>64</td>\n",
       "      <td>7</td>\n",
       "      <td>cross_val_score</td>\n",
       "      <td>0.69500</td>\n",
       "    </tr>\n",
       "    <tr>\n",
       "      <td>65</td>\n",
       "      <td>8</td>\n",
       "      <td>cross_val_score</td>\n",
       "      <td>0.69750</td>\n",
       "    </tr>\n",
       "    <tr>\n",
       "      <td>66</td>\n",
       "      <td>9</td>\n",
       "      <td>cross_val_score</td>\n",
       "      <td>0.69500</td>\n",
       "    </tr>\n",
       "    <tr>\n",
       "      <td>67</td>\n",
       "      <td>10</td>\n",
       "      <td>cross_val_score</td>\n",
       "      <td>0.68500</td>\n",
       "    </tr>\n",
       "  </tbody>\n",
       "</table>\n",
       "</div>"
      ],
      "text/plain": [
       "    max_depth         set_type    score\n",
       "58          1  cross_val_score  0.70000\n",
       "59          2  cross_val_score  0.69750\n",
       "60          3  cross_val_score  0.69375\n",
       "61          4  cross_val_score  0.71250\n",
       "62          5  cross_val_score  0.73000\n",
       "63          6  cross_val_score  0.70500\n",
       "64          7  cross_val_score  0.69500\n",
       "65          8  cross_val_score  0.69750\n",
       "66          9  cross_val_score  0.69500\n",
       "67         10  cross_val_score  0.68500"
      ]
     },
     "execution_count": 51,
     "metadata": {},
     "output_type": "execute_result"
    }
   ],
   "source": [
    "scores_df_long.query(\"set_type == 'cross_val_score'\").head(10)"
   ]
  },
  {
   "cell_type": "code",
   "execution_count": 52,
   "metadata": {},
   "outputs": [],
   "source": [
    "best_clf = tree.DecisionTreeClassifier(criterion = 'entropy', max_depth = 5)"
   ]
  },
  {
   "cell_type": "code",
   "execution_count": 53,
   "metadata": {},
   "outputs": [
    {
     "data": {
      "text/plain": [
       "DecisionTreeClassifier(class_weight=None, criterion='entropy', max_depth=5,\n",
       "                       max_features=None, max_leaf_nodes=None,\n",
       "                       min_impurity_decrease=0.0, min_impurity_split=None,\n",
       "                       min_samples_leaf=1, min_samples_split=2,\n",
       "                       min_weight_fraction_leaf=0.0, presort=False,\n",
       "                       random_state=None, splitter='best')"
      ]
     },
     "execution_count": 53,
     "metadata": {},
     "output_type": "execute_result"
    }
   ],
   "source": [
    "best_clf.fit(X_train, y_train)"
   ]
  },
  {
   "cell_type": "code",
   "execution_count": 54,
   "metadata": {},
   "outputs": [
    {
     "data": {
      "text/plain": [
       "0.745"
      ]
     },
     "execution_count": 54,
     "metadata": {},
     "output_type": "execute_result"
    }
   ],
   "source": [
    "best_clf.score(X_test, y_test)"
   ]
  },
  {
   "cell_type": "code",
   "execution_count": 55,
   "metadata": {},
   "outputs": [],
   "source": [
    "from sklearn.model_selection import GridSearchCV"
   ]
  },
  {
   "cell_type": "code",
   "execution_count": 56,
   "metadata": {},
   "outputs": [],
   "source": [
    "clf = tree.DecisionTreeClassifier()"
   ]
  },
  {
   "cell_type": "code",
   "execution_count": 57,
   "metadata": {},
   "outputs": [],
   "source": [
    "parametrs = {'criterion': ['gini', 'entropy'], 'max_depth': range(3, 15)}"
   ]
  },
  {
   "cell_type": "code",
   "execution_count": 58,
   "metadata": {},
   "outputs": [],
   "source": [
    "grid_search_cv_clf = GridSearchCV(clf, parametrs, cv = 5)"
   ]
  },
  {
   "cell_type": "code",
   "execution_count": 59,
   "metadata": {},
   "outputs": [
    {
     "data": {
      "text/plain": [
       "GridSearchCV(cv=5, error_score='raise-deprecating',\n",
       "             estimator=DecisionTreeClassifier(class_weight=None,\n",
       "                                              criterion='gini', max_depth=None,\n",
       "                                              max_features=None,\n",
       "                                              max_leaf_nodes=None,\n",
       "                                              min_impurity_decrease=0.0,\n",
       "                                              min_impurity_split=None,\n",
       "                                              min_samples_leaf=1,\n",
       "                                              min_samples_split=2,\n",
       "                                              min_weight_fraction_leaf=0.0,\n",
       "                                              presort=False, random_state=None,\n",
       "                                              splitter='best'),\n",
       "             iid='warn', n_jobs=None,\n",
       "             param_grid={'criterion': ['gini', 'entropy'],\n",
       "                         'max_depth': range(3, 15)},\n",
       "             pre_dispatch='2*n_jobs', refit=True, return_train_score=False,\n",
       "             scoring=None, verbose=0)"
      ]
     },
     "execution_count": 59,
     "metadata": {},
     "output_type": "execute_result"
    }
   ],
   "source": [
    "grid_search_cv_clf.fit(X_train, y_train)"
   ]
  },
  {
   "cell_type": "code",
   "execution_count": 60,
   "metadata": {},
   "outputs": [
    {
     "data": {
      "text/plain": [
       "{'criterion': 'entropy', 'max_depth': 5}"
      ]
     },
     "execution_count": 60,
     "metadata": {},
     "output_type": "execute_result"
    }
   ],
   "source": [
    "grid_search_cv_clf.best_params_"
   ]
  },
  {
   "cell_type": "code",
   "execution_count": 61,
   "metadata": {},
   "outputs": [],
   "source": [
    "best_clf = grid_search_cv_clf.best_estimator_"
   ]
  },
  {
   "cell_type": "code",
   "execution_count": 62,
   "metadata": {},
   "outputs": [
    {
     "data": {
      "text/plain": [
       "0.745"
      ]
     },
     "execution_count": 62,
     "metadata": {},
     "output_type": "execute_result"
    }
   ],
   "source": [
    "best_clf.score(X_test, y_test)"
   ]
  },
  {
   "cell_type": "code",
   "execution_count": 63,
   "metadata": {},
   "outputs": [],
   "source": [
    "from sklearn.metrics import precision_score, recall_score, accuracy_score"
   ]
  },
  {
   "cell_type": "code",
   "execution_count": 64,
   "metadata": {},
   "outputs": [],
   "source": [
    "y_pred = best_clf.predict(X_test)"
   ]
  },
  {
   "cell_type": "code",
   "execution_count": 65,
   "metadata": {},
   "outputs": [
    {
     "data": {
      "text/plain": [
       "0.7908496732026143"
      ]
     },
     "execution_count": 65,
     "metadata": {},
     "output_type": "execute_result"
    }
   ],
   "source": [
    "precision_score(y_test, y_pred)"
   ]
  },
  {
   "cell_type": "code",
   "execution_count": 66,
   "metadata": {},
   "outputs": [
    {
     "data": {
      "text/plain": [
       "0.8642857142857143"
      ]
     },
     "execution_count": 66,
     "metadata": {},
     "output_type": "execute_result"
    }
   ],
   "source": [
    "recall_score(y_test, y_pred)"
   ]
  },
  {
   "cell_type": "code",
   "execution_count": 67,
   "metadata": {},
   "outputs": [],
   "source": [
    "clf = tree.DecisionTreeClassifier(criterion = 'gini', max_depth = 5, min_samples_leaf=10)"
   ]
  },
  {
   "cell_type": "code",
   "execution_count": 68,
   "metadata": {},
   "outputs": [
    {
     "data": {
      "text/plain": [
       "DecisionTreeClassifier(class_weight=None, criterion='gini', max_depth=5,\n",
       "                       max_features=None, max_leaf_nodes=None,\n",
       "                       min_impurity_decrease=0.0, min_impurity_split=None,\n",
       "                       min_samples_leaf=10, min_samples_split=2,\n",
       "                       min_weight_fraction_leaf=0.0, presort=False,\n",
       "                       random_state=None, splitter='best')"
      ]
     },
     "execution_count": 68,
     "metadata": {},
     "output_type": "execute_result"
    }
   ],
   "source": [
    "clf.fit(X_train, y_train)"
   ]
  },
  {
   "cell_type": "code",
   "execution_count": 69,
   "metadata": {},
   "outputs": [
    {
     "data": {
      "image/png": "[encoded data removed]",
      "text/plain": [
       "<Figure size 3200x1600 with 1 Axes>"
      ]
     },
     "metadata": {},
     "output_type": "display_data"
    }
   ],
   "source": [
    "plt.figure(figsize=(40, 20),dpi=80)\n",
    "p = tree.plot_tree(clf, fontsize=13,filled=True,feature_names=list(X))"
   ]
  },
  {
   "cell_type": "code",
   "execution_count": 70,
   "metadata": {},
   "outputs": [],
   "source": [
    "from sklearn.ensemble import RandomForestClassifier"
   ]
  },
  {
   "cell_type": "code",
   "execution_count": 71,
   "metadata": {},
   "outputs": [],
   "source": [
    "parametrs = {'max_features': [5, 6, 7, 8, 9, 10], 'min_samples_leaf': [1, 2],\n",
    "             'max_depth': range(10, 15), 'criterion': ['gini', 'entropy']}"
   ]
  },
  {
   "cell_type": "code",
   "execution_count": 72,
   "metadata": {},
   "outputs": [],
   "source": [
    "rfc = RandomForestClassifier(n_estimators=60, random_state=42, n_jobs=-1, oob_score=True)"
   ]
  },
  {
   "cell_type": "code",
   "execution_count": 73,
   "metadata": {},
   "outputs": [],
   "source": [
    "gcv= GridSearchCV(rfc, parametrs, n_jobs=-1, cv = 5, verbose=1)"
   ]
  },
  {
   "cell_type": "code",
   "execution_count": 74,
   "metadata": {
    "scrolled": false
   },
   "outputs": [
    {
     "name": "stdout",
     "output_type": "stream",
     "text": [
      "Fitting 5 folds for each of 120 candidates, totalling 600 fits\n"
     ]
    },
    {
     "name": "stderr",
     "output_type": "stream",
     "text": [
      "[Parallel(n_jobs=-1)]: Using backend LokyBackend with 4 concurrent workers.\n",
      "[Parallel(n_jobs=-1)]: Done  42 tasks      | elapsed:    5.9s\n",
      "[Parallel(n_jobs=-1)]: Done 192 tasks      | elapsed:   16.8s\n",
      "[Parallel(n_jobs=-1)]: Done 442 tasks      | elapsed:   34.2s\n",
      "[Parallel(n_jobs=-1)]: Done 600 out of 600 | elapsed:   44.4s finished\n"
     ]
    },
    {
     "data": {
      "text/plain": [
       "GridSearchCV(cv=5, error_score='raise-deprecating',\n",
       "             estimator=RandomForestClassifier(bootstrap=True, class_weight=None,\n",
       "                                              criterion='gini', max_depth=None,\n",
       "                                              max_features='auto',\n",
       "                                              max_leaf_nodes=None,\n",
       "                                              min_impurity_decrease=0.0,\n",
       "                                              min_impurity_split=None,\n",
       "                                              min_samples_leaf=1,\n",
       "                                              min_samples_split=2,\n",
       "                                              min_weight_fraction_leaf=0.0,\n",
       "                                              n_estimators=60, n_jobs=-1,\n",
       "                                              oob_score=True, random_state=42,\n",
       "                                              verbose=0, warm_start=False),\n",
       "             iid='warn', n_jobs=-1,\n",
       "             param_grid={'criterion': ['gini', 'entropy'],\n",
       "                         'max_depth': range(10, 15),\n",
       "                         'max_features': [5, 6, 7, 8, 9, 10],\n",
       "                         'min_samples_leaf': [1, 2]},\n",
       "             pre_dispatch='2*n_jobs', refit=True, return_train_score=False,\n",
       "             scoring=None, verbose=1)"
      ]
     },
     "execution_count": 74,
     "metadata": {},
     "output_type": "execute_result"
    }
   ],
   "source": [
    "gcv.fit(X_train, y_train)"
   ]
  },
  {
   "cell_type": "code",
   "execution_count": 75,
   "metadata": {},
   "outputs": [
    {
     "data": {
      "text/plain": [
       "{'criterion': 'entropy',\n",
       " 'max_depth': 11,\n",
       " 'max_features': 9,\n",
       " 'min_samples_leaf': 1}"
      ]
     },
     "execution_count": 75,
     "metadata": {},
     "output_type": "execute_result"
    }
   ],
   "source": [
    "gcv.best_params_"
   ]
  },
  {
   "cell_type": "code",
   "execution_count": 76,
   "metadata": {},
   "outputs": [],
   "source": [
    "best_clf = gcv.best_estimator_"
   ]
  },
  {
   "cell_type": "code",
   "execution_count": 77,
   "metadata": {},
   "outputs": [
    {
     "data": {
      "text/plain": [
       "0.8"
      ]
     },
     "execution_count": 77,
     "metadata": {},
     "output_type": "execute_result"
    }
   ],
   "source": [
    "best_clf.score(X_test, y_test)"
   ]
  },
  {
   "cell_type": "code",
   "execution_count": 78,
   "metadata": {},
   "outputs": [],
   "source": [
    "y_pred = best_clf.predict(X_test)"
   ]
  },
  {
   "cell_type": "code",
   "execution_count": 79,
   "metadata": {},
   "outputs": [
    {
     "data": {
      "text/plain": [
       "0.8205128205128205"
      ]
     },
     "execution_count": 79,
     "metadata": {},
     "output_type": "execute_result"
    }
   ],
   "source": [
    "precision_score(y_test, y_pred)"
   ]
  },
  {
   "cell_type": "code",
   "execution_count": 80,
   "metadata": {},
   "outputs": [
    {
     "data": {
      "text/plain": [
       "0.9142857142857143"
      ]
     },
     "execution_count": 80,
     "metadata": {},
     "output_type": "execute_result"
    }
   ],
   "source": [
    "recall_score(y_test, y_pred)"
   ]
  },
  {
   "cell_type": "code",
   "execution_count": 81,
   "metadata": {},
   "outputs": [
    {
     "data": {
      "text/html": [
       "<div>\n",
       "<style scoped>\n",
       "    .dataframe tbody tr th:only-of-type {\n",
       "        vertical-align: middle;\n",
       "    }\n",
       "\n",
       "    .dataframe tbody tr th {\n",
       "        vertical-align: top;\n",
       "    }\n",
       "\n",
       "    .dataframe thead th {\n",
       "        text-align: right;\n",
       "    }\n",
       "</style>\n",
       "<table border=\"1\" class=\"dataframe\">\n",
       "  <thead>\n",
       "    <tr style=\"text-align: right;\">\n",
       "      <th></th>\n",
       "      <th>features</th>\n",
       "      <th>feature_importances</th>\n",
       "    </tr>\n",
       "  </thead>\n",
       "  <tbody>\n",
       "    <tr>\n",
       "      <td>4</td>\n",
       "      <td>credit_amount</td>\n",
       "      <td>0.176357</td>\n",
       "    </tr>\n",
       "    <tr>\n",
       "      <td>0</td>\n",
       "      <td>account_check_status</td>\n",
       "      <td>0.132689</td>\n",
       "    </tr>\n",
       "    <tr>\n",
       "      <td>11</td>\n",
       "      <td>age</td>\n",
       "      <td>0.116291</td>\n",
       "    </tr>\n",
       "    <tr>\n",
       "      <td>1</td>\n",
       "      <td>duration_in_month</td>\n",
       "      <td>0.109974</td>\n",
       "    </tr>\n",
       "    <tr>\n",
       "      <td>3</td>\n",
       "      <td>purpose</td>\n",
       "      <td>0.073092</td>\n",
       "    </tr>\n",
       "    <tr>\n",
       "      <td>6</td>\n",
       "      <td>present_emp_since</td>\n",
       "      <td>0.049592</td>\n",
       "    </tr>\n",
       "    <tr>\n",
       "      <td>9</td>\n",
       "      <td>present_res_since</td>\n",
       "      <td>0.043413</td>\n",
       "    </tr>\n",
       "    <tr>\n",
       "      <td>5</td>\n",
       "      <td>savings</td>\n",
       "      <td>0.043226</td>\n",
       "    </tr>\n",
       "    <tr>\n",
       "      <td>2</td>\n",
       "      <td>credit_history</td>\n",
       "      <td>0.042919</td>\n",
       "    </tr>\n",
       "    <tr>\n",
       "      <td>7</td>\n",
       "      <td>installment_as_income_perc</td>\n",
       "      <td>0.039647</td>\n",
       "    </tr>\n",
       "    <tr>\n",
       "      <td>10</td>\n",
       "      <td>property</td>\n",
       "      <td>0.039413</td>\n",
       "    </tr>\n",
       "    <tr>\n",
       "      <td>12</td>\n",
       "      <td>other_installment_plans</td>\n",
       "      <td>0.034859</td>\n",
       "    </tr>\n",
       "    <tr>\n",
       "      <td>8</td>\n",
       "      <td>personal_status_sex</td>\n",
       "      <td>0.032319</td>\n",
       "    </tr>\n",
       "    <tr>\n",
       "      <td>14</td>\n",
       "      <td>job</td>\n",
       "      <td>0.030211</td>\n",
       "    </tr>\n",
       "    <tr>\n",
       "      <td>13</td>\n",
       "      <td>housing</td>\n",
       "      <td>0.019177</td>\n",
       "    </tr>\n",
       "    <tr>\n",
       "      <td>15</td>\n",
       "      <td>telephone</td>\n",
       "      <td>0.016823</td>\n",
       "    </tr>\n",
       "  </tbody>\n",
       "</table>\n",
       "</div>"
      ],
      "text/plain": [
       "                      features  feature_importances\n",
       "4                credit_amount             0.176357\n",
       "0         account_check_status             0.132689\n",
       "11                         age             0.116291\n",
       "1            duration_in_month             0.109974\n",
       "3                      purpose             0.073092\n",
       "6            present_emp_since             0.049592\n",
       "9            present_res_since             0.043413\n",
       "5                      savings             0.043226\n",
       "2               credit_history             0.042919\n",
       "7   installment_as_income_perc             0.039647\n",
       "10                    property             0.039413\n",
       "12     other_installment_plans             0.034859\n",
       "8          personal_status_sex             0.032319\n",
       "14                         job             0.030211\n",
       "13                     housing             0.019177\n",
       "15                   telephone             0.016823"
      ]
     },
     "execution_count": 81,
     "metadata": {},
     "output_type": "execute_result"
    }
   ],
   "source": [
    "feature_importances = best_clf.feature_importances_\n",
    "feature_importances_df = pd.DataFrame({'features': X_train.columns,\n",
    "                                'feature_importances': feature_importances})\n",
    "feature_importances_df.sort_values('feature_importances', ascending=False)"
   ]
  },
  {
   "cell_type": "code",
   "execution_count": 82,
   "metadata": {
    "scrolled": false
   },
   "outputs": [],
   "source": [
    "y_predicted_prob = best_clf.predict_proba(X_test)"
   ]
  },
  {
   "cell_type": "code",
   "execution_count": 83,
   "metadata": {},
   "outputs": [
    {
     "data": {
      "image/png": "[encoded data removed]",
      "text/plain": [
       "<Figure size 864x648 with 1 Axes>"
      ]
     },
     "metadata": {},
     "output_type": "display_data"
    }
   ],
   "source": [
    "from sklearn.metrics import roc_curve, auc\n",
    "fpr, tpr, thresholds = roc_curve(y_test, y_predicted_prob[:, 1])\n",
    "roc_auc= auc(fpr, tpr)\n",
    "plt.figure()\n",
    "plt.plot(fpr, tpr, label='ROC curve (area = %0.2f)' % roc_auc)\n",
    "plt.plot([0, 1], [0, 1], \"k--\")\n",
    "plt.xlim([0.0, 1.0])\n",
    "plt.ylim([0.0, 1.05])\n",
    "plt.xlabel('False Positive Rate')\n",
    "plt.ylabel('True Positive Rate')\n",
    "plt.title('Receiver operating characteristic example')\n",
    "plt.legend(loc=\"lower right\")\n",
    "plt.show()"
   ]
  },
  {
   "cell_type": "code",
   "execution_count": 84,
   "metadata": {},
   "outputs": [
    {
     "data": {
      "text/plain": [
       "<matplotlib.axes._subplots.AxesSubplot at 0x1609f1afac8>"
      ]
     },
     "execution_count": 84,
     "metadata": {},
     "output_type": "execute_result"
    },
    {
     "data": {
      "image/png": "[encoded data removed]",
      "text/plain": [
       "<Figure size 864x648 with 1 Axes>"
      ]
     },
     "metadata": {},
     "output_type": "display_data"
    }
   ],
   "source": [
    "pd.Series(y_predicted_prob[:, 1]).hist()"
   ]
  },
  {
   "cell_type": "code",
   "execution_count": 85,
   "metadata": {},
   "outputs": [
    {
     "data": {
      "text/plain": [
       "array([0.78104689, 0.49077091, 0.58333333, 0.96880081, 0.57950269,\n",
       "       0.73963929, 0.93732206, 0.70032957, 0.48998071, 0.7465873 ,\n",
       "       0.53435789, 0.86206592, 0.62428851, 0.25381149, 0.80737892,\n",
       "       0.67594877, 0.69265545, 0.7827957 , 0.89067251, 0.76619071,\n",
       "       0.80055082, 0.88021966, 0.51487193, 0.87982162, 0.86722408,\n",
       "       0.34242424, 0.49071976, 0.40866972, 0.94882265, 0.21604953,\n",
       "       0.82083333, 0.75012527, 0.73333333, 0.79752467, 0.55257507,\n",
       "       0.71144079, 0.52042681, 0.70388087, 0.83451634, 0.58463748,\n",
       "       0.88555556, 0.86337894, 0.94897959, 0.5397585 , 0.59781639,\n",
       "       0.23333333, 0.51996187, 0.5       , 0.34339158, 0.80658089,\n",
       "       0.88333333, 0.5824268 , 0.42837248, 0.95      , 0.95749279,\n",
       "       0.87694444, 0.91666667, 0.70529214, 0.8826087 , 0.62248677,\n",
       "       0.67882114, 0.49524061, 0.96419414, 1.        , 0.20373743,\n",
       "       0.91564626, 0.9377261 , 0.98300652, 0.49089999, 0.93151008,\n",
       "       0.98088768, 0.53412247, 0.62975354, 0.50658365, 0.997818  ,\n",
       "       0.34753886, 0.35      , 0.47670225, 0.65857592, 0.49550316,\n",
       "       0.5746515 , 0.39431605, 0.88965528, 0.67947149, 0.60310539,\n",
       "       0.93333333, 0.28860078, 0.91277778, 0.76499145, 0.69333984,\n",
       "       0.54480971, 0.23210834, 0.94796748, 0.72286996, 0.54349206,\n",
       "       0.38084676, 0.2137265 , 0.5900169 , 0.49059536, 0.9326087 ,\n",
       "       0.36242169, 0.71082326, 0.6131806 , 0.79824879, 0.98059315,\n",
       "       0.68860046, 0.92036964, 0.45427349, 0.95403045, 0.83548358,\n",
       "       0.9984472 , 0.80782516, 0.8216176 , 0.99631877, 0.68685185,\n",
       "       0.58284763, 0.65478655, 0.5408561 , 0.87581508, 0.86090152,\n",
       "       0.56841026, 0.95263112, 0.70088765, 0.90288462, 0.63989472,\n",
       "       0.591924  , 0.93439329, 0.95674869, 0.75230233, 0.53515055,\n",
       "       0.47474245, 0.90914841, 0.7787037 , 0.34182079, 0.62398991,\n",
       "       0.61275553, 0.634375  , 0.68989405, 0.80912698, 0.62570987,\n",
       "       0.92577108, 0.90934066, 0.69584877, 0.97855222, 0.38097725,\n",
       "       0.52745971, 0.66271599, 0.62111753, 0.24568408, 0.42817973,\n",
       "       0.33725256, 0.70211169, 0.885     , 0.8478168 , 0.59569328,\n",
       "       0.9352951 , 0.7718854 , 0.31487417, 0.32645145, 0.96095749,\n",
       "       0.43972478, 0.64614545, 0.36199673, 0.57619048, 0.62878478,\n",
       "       0.50138291, 0.61896103, 0.64166667, 0.47940766, 0.91416667,\n",
       "       0.41783602, 0.60499572, 0.75075386, 0.21348473, 0.53264366,\n",
       "       0.72327066, 0.86038223, 0.66666667, 0.11406896, 0.45670727,\n",
       "       0.63868748, 0.35406127, 0.57788462, 0.93289474, 0.41808637,\n",
       "       0.91484937, 0.5274359 , 0.36105145, 0.60092175, 0.93153176,\n",
       "       0.84776021, 0.6529412 , 0.94895833, 0.82000722, 0.65255106,\n",
       "       0.52900546, 0.92372034, 0.75      ])"
      ]
     },
     "execution_count": 85,
     "metadata": {},
     "output_type": "execute_result"
    }
   ],
   "source": [
    "pd.Series(y_predicted_prob[:, 1]).unique()"
   ]
  },
  {
   "cell_type": "code",
   "execution_count": 86,
   "metadata": {},
   "outputs": [],
   "source": [
    "y_pred = np.where(y_predicted_prob[:, 1] > 0.9, 1, 0)"
   ]
  },
  {
   "cell_type": "code",
   "execution_count": 87,
   "metadata": {},
   "outputs": [
    {
     "data": {
      "text/plain": [
       "0.9523809523809523"
      ]
     },
     "execution_count": 87,
     "metadata": {},
     "output_type": "execute_result"
    }
   ],
   "source": [
    "precision_score(y_test, y_pred)"
   ]
  },
  {
   "cell_type": "code",
   "execution_count": 88,
   "metadata": {},
   "outputs": [
    {
     "data": {
      "text/plain": [
       "0.2857142857142857"
      ]
     },
     "execution_count": 88,
     "metadata": {},
     "output_type": "execute_result"
    }
   ],
   "source": [
    "recall_score(y_test, y_pred)"
   ]
  },
  {
   "cell_type": "code",
   "execution_count": 89,
   "metadata": {
    "scrolled": true
   },
   "outputs": [
    {
     "data": {
      "text/plain": [
       "0.49"
      ]
     },
     "execution_count": 89,
     "metadata": {},
     "output_type": "execute_result"
    }
   ],
   "source": [
    "accuracy_score(y_test, y_pred)"
   ]
  },
  {
   "cell_type": "code",
   "execution_count": null,
   "metadata": {},
   "outputs": [],
   "source": []
  },
  {
   "cell_type": "code",
   "execution_count": null,
   "metadata": {},
   "outputs": [],
   "source": []
  },
  {
   "cell_type": "code",
   "execution_count": 90,
   "metadata": {},
   "outputs": [],
   "source": [
    "y_new = pd.read_excel(r'C:\\Users\\aydar\\Downloads\\virtual_box_DOWNLOWD\\bankir.xlsx')"
   ]
  },
  {
   "cell_type": "code",
   "execution_count": 91,
   "metadata": {
    "scrolled": true
   },
   "outputs": [
    {
     "data": {
      "text/html": [
       "<div>\n",
       "<style scoped>\n",
       "    .dataframe tbody tr th:only-of-type {\n",
       "        vertical-align: middle;\n",
       "    }\n",
       "\n",
       "    .dataframe tbody tr th {\n",
       "        vertical-align: top;\n",
       "    }\n",
       "\n",
       "    .dataframe thead th {\n",
       "        text-align: right;\n",
       "    }\n",
       "</style>\n",
       "<table border=\"1\" class=\"dataframe\">\n",
       "  <thead>\n",
       "    <tr style=\"text-align: right;\">\n",
       "      <th></th>\n",
       "      <th>id_klienta</th>\n",
       "      <th>default</th>\n",
       "      <th>account_check_status</th>\n",
       "      <th>duration_in_month</th>\n",
       "      <th>credit_history</th>\n",
       "      <th>purpose</th>\n",
       "      <th>credit_amount</th>\n",
       "      <th>savings</th>\n",
       "      <th>present_emp_since</th>\n",
       "      <th>installment_as_income_perc</th>\n",
       "      <th>...</th>\n",
       "      <th>present_res_since</th>\n",
       "      <th>property</th>\n",
       "      <th>age</th>\n",
       "      <th>other_installment_plans</th>\n",
       "      <th>housing</th>\n",
       "      <th>credits_this_bank</th>\n",
       "      <th>job</th>\n",
       "      <th>people_under_maintenance</th>\n",
       "      <th>telephone</th>\n",
       "      <th>foreign_worker</th>\n",
       "    </tr>\n",
       "  </thead>\n",
       "  <tbody>\n",
       "    <tr>\n",
       "      <td>0</td>\n",
       "      <td>1</td>\n",
       "      <td>NaN</td>\n",
       "      <td>0 &lt;= ... &lt; 200 DM</td>\n",
       "      <td>12</td>\n",
       "      <td>all credits at this bank paid back duly</td>\n",
       "      <td>business</td>\n",
       "      <td>5000</td>\n",
       "      <td>100 &lt;= ... &lt; 500 DM</td>\n",
       "      <td>1 &lt;= ... &lt; 4 years</td>\n",
       "      <td>4</td>\n",
       "      <td>...</td>\n",
       "      <td>4</td>\n",
       "      <td>real estate</td>\n",
       "      <td>35</td>\n",
       "      <td>none</td>\n",
       "      <td>own</td>\n",
       "      <td>1</td>\n",
       "      <td>skilled employee / official</td>\n",
       "      <td>1</td>\n",
       "      <td>yes, registered under the customers name</td>\n",
       "      <td>yes</td>\n",
       "    </tr>\n",
       "    <tr>\n",
       "      <td>1</td>\n",
       "      <td>2</td>\n",
       "      <td>NaN</td>\n",
       "      <td>&lt; 0 DM</td>\n",
       "      <td>4</td>\n",
       "      <td>no credits taken/ all credits paid back duly</td>\n",
       "      <td>car (new)</td>\n",
       "      <td>10000</td>\n",
       "      <td>unknown/ no savings account</td>\n",
       "      <td>1 &lt;= ... &lt; 4 years</td>\n",
       "      <td>3</td>\n",
       "      <td>...</td>\n",
       "      <td>2</td>\n",
       "      <td>unknown / no property</td>\n",
       "      <td>22</td>\n",
       "      <td>bank</td>\n",
       "      <td>rent</td>\n",
       "      <td>1</td>\n",
       "      <td>unemployed/ unskilled - non-resident</td>\n",
       "      <td>2</td>\n",
       "      <td>yes, registered under the customers name</td>\n",
       "      <td>yes</td>\n",
       "    </tr>\n",
       "  </tbody>\n",
       "</table>\n",
       "<p>2 rows × 22 columns</p>\n",
       "</div>"
      ],
      "text/plain": [
       "   id_klienta  default account_check_status  duration_in_month  \\\n",
       "0           1      NaN    0 <= ... < 200 DM                 12   \n",
       "1           2      NaN               < 0 DM                  4   \n",
       "\n",
       "                                 credit_history    purpose  credit_amount  \\\n",
       "0       all credits at this bank paid back duly   business           5000   \n",
       "1  no credits taken/ all credits paid back duly  car (new)          10000   \n",
       "\n",
       "                       savings   present_emp_since  \\\n",
       "0          100 <= ... < 500 DM  1 <= ... < 4 years   \n",
       "1  unknown/ no savings account  1 <= ... < 4 years   \n",
       "\n",
       "   installment_as_income_perc  ... present_res_since               property  \\\n",
       "0                           4  ...                 4            real estate   \n",
       "1                           3  ...                 2  unknown / no property   \n",
       "\n",
       "   age other_installment_plans  housing credits_this_bank  \\\n",
       "0   35                    none      own                 1   \n",
       "1   22                    bank     rent                 1   \n",
       "\n",
       "                                    job  people_under_maintenance  \\\n",
       "0           skilled employee / official                         1   \n",
       "1  unemployed/ unskilled - non-resident                         2   \n",
       "\n",
       "                                  telephone  foreign_worker  \n",
       "0  yes, registered under the customers name             yes  \n",
       "1  yes, registered under the customers name             yes  \n",
       "\n",
       "[2 rows x 22 columns]"
      ]
     },
     "execution_count": 91,
     "metadata": {},
     "output_type": "execute_result"
    }
   ],
   "source": [
    "y_new"
   ]
  },
  {
   "cell_type": "code",
   "execution_count": 92,
   "metadata": {},
   "outputs": [],
   "source": [
    "y_new.drop(['foreign_worker'], axis = 1, inplace = True)\n",
    "y_new.drop(['other_debtors'], axis = 1, inplace = True)\n",
    "y_new.drop(['people_under_maintenance'], axis = 1, inplace = True)\n",
    "y_new.drop(['credits_this_bank'], axis = 1, inplace = True)\n",
    "y_new.drop(['id_klienta'], axis = 1, inplace = True)\n",
    "y_new.drop(['default'], axis = 1, inplace = True)"
   ]
  },
  {
   "cell_type": "code",
   "execution_count": 93,
   "metadata": {},
   "outputs": [],
   "source": [
    "y_new[\"account_check_status\"]=y_new[\"account_check_status\"].map({'< 0 DM':1, '0 <= ... < 200 DM':0, 'no checking account':3,\n",
    "                                '>= 200 DM / salary assignments for at least 1 year':2})\n",
    "\n",
    "y_new[\"credit_history\"]=y_new[\"credit_history\"].map({\"critical account/ other credits existing (not at this bank)\":1,\n",
    "                                \"existing credits paid back duly till now\":3,\"delay in paying off in the past\":2,\n",
    "                                \"all credits at this bank paid back duly\":0, \"no credits taken/ all credits paid back duly\":4})\n",
    "\n",
    "y_new[\"purpose\"]=y_new[\"purpose\"].map({\"domestic appliances\":4, \"car (new)\":2, \"radio/television\":7, \"car (used)\":3, \n",
    "                                \"business\":1, \"(vacation - does not exist?)\":0, \"repairs\":8, 'education':5,\n",
    "                                'furniture/equipment':6,'retraining':9})              #'furniture/equipment':,'retraining':\n",
    "\n",
    "y_new[\"savings\"]=y_new[\"savings\"].map({'.. >= 1000 DM':0, '500 <= ... < 1000 DM':3, '100 <= ... < 500 DM':2,\n",
    "                                'unknown/ no savings account':4, '... < 100 DM':1})\n",
    "\n",
    "y_new[\"present_emp_since\"]=y_new[\"present_emp_since\"].map({'unemployed':4, '... < 1 year': 1,\n",
    "                                '4 <= ... < 7 years':3, '.. >= 7 years':0, '1 <= ... < 4 years':2})\n",
    "\n",
    "y_new[\"personal_status_sex\"]=y_new[\"personal_status_sex\"].map({'male : divorced/separated':1, 'male : married/widowed':2,\n",
    "                                'female : divorced/separated/married':0, 'male : single':3})\n",
    "\n",
    "y_new[\"property\"]=y_new[\"property\"].map({'if not A121 : building society savings agreement/ life insurance':0,'real estate':2,\n",
    "                                'unknown / no property':3, 'if not A121/A122 : car or other, not in attribute 6':1})\n",
    "\n",
    "y_new[\"other_installment_plans\"]=y_new[\"other_installment_plans\"].map({'stores':2, 'bank':0, 'none':1})\n",
    "\n",
    "y_new[\"housing\"]=y_new[\"housing\"].map({'for free':0, 'rent':2, 'own':1})\n",
    "\n",
    "y_new[\"job\"]=y_new[\"job\"].map({ 'management/ self-employed/ highly qualified employee/ officer':0,'unskilled - resident':3,\n",
    "                               'unemployed/ unskilled - non-resident':2, 'skilled employee / official':1})\n",
    "\n",
    "y_new[\"telephone\"]=y_new[\"telephone\"].map({'yes, registered under the customers name':1, 'none':0})"
   ]
  },
  {
   "cell_type": "code",
   "execution_count": 94,
   "metadata": {},
   "outputs": [
    {
     "data": {
      "text/html": [
       "<div>\n",
       "<style scoped>\n",
       "    .dataframe tbody tr th:only-of-type {\n",
       "        vertical-align: middle;\n",
       "    }\n",
       "\n",
       "    .dataframe tbody tr th {\n",
       "        vertical-align: top;\n",
       "    }\n",
       "\n",
       "    .dataframe thead th {\n",
       "        text-align: right;\n",
       "    }\n",
       "</style>\n",
       "<table border=\"1\" class=\"dataframe\">\n",
       "  <thead>\n",
       "    <tr style=\"text-align: right;\">\n",
       "      <th></th>\n",
       "      <th>account_check_status</th>\n",
       "      <th>duration_in_month</th>\n",
       "      <th>credit_history</th>\n",
       "      <th>purpose</th>\n",
       "      <th>credit_amount</th>\n",
       "      <th>savings</th>\n",
       "      <th>present_emp_since</th>\n",
       "      <th>installment_as_income_perc</th>\n",
       "      <th>personal_status_sex</th>\n",
       "      <th>present_res_since</th>\n",
       "      <th>property</th>\n",
       "      <th>age</th>\n",
       "      <th>other_installment_plans</th>\n",
       "      <th>housing</th>\n",
       "      <th>job</th>\n",
       "      <th>telephone</th>\n",
       "    </tr>\n",
       "  </thead>\n",
       "  <tbody>\n",
       "    <tr>\n",
       "      <td>0</td>\n",
       "      <td>0</td>\n",
       "      <td>12</td>\n",
       "      <td>0</td>\n",
       "      <td>1</td>\n",
       "      <td>5000</td>\n",
       "      <td>2</td>\n",
       "      <td>2</td>\n",
       "      <td>4</td>\n",
       "      <td>3</td>\n",
       "      <td>4</td>\n",
       "      <td>2</td>\n",
       "      <td>35</td>\n",
       "      <td>1</td>\n",
       "      <td>1</td>\n",
       "      <td>1</td>\n",
       "      <td>1</td>\n",
       "    </tr>\n",
       "    <tr>\n",
       "      <td>1</td>\n",
       "      <td>1</td>\n",
       "      <td>4</td>\n",
       "      <td>4</td>\n",
       "      <td>2</td>\n",
       "      <td>10000</td>\n",
       "      <td>4</td>\n",
       "      <td>2</td>\n",
       "      <td>3</td>\n",
       "      <td>2</td>\n",
       "      <td>2</td>\n",
       "      <td>3</td>\n",
       "      <td>22</td>\n",
       "      <td>0</td>\n",
       "      <td>2</td>\n",
       "      <td>2</td>\n",
       "      <td>1</td>\n",
       "    </tr>\n",
       "  </tbody>\n",
       "</table>\n",
       "</div>"
      ],
      "text/plain": [
       "   account_check_status  duration_in_month  credit_history  purpose  \\\n",
       "0                     0                 12               0        1   \n",
       "1                     1                  4               4        2   \n",
       "\n",
       "   credit_amount  savings  present_emp_since  installment_as_income_perc  \\\n",
       "0           5000        2                  2                           4   \n",
       "1          10000        4                  2                           3   \n",
       "\n",
       "   personal_status_sex  present_res_since  property  age  \\\n",
       "0                    3                  4         2   35   \n",
       "1                    2                  2         3   22   \n",
       "\n",
       "   other_installment_plans  housing  job  telephone  \n",
       "0                        1        1    1          1  \n",
       "1                        0        2    2          1  "
      ]
     },
     "execution_count": 94,
     "metadata": {},
     "output_type": "execute_result"
    }
   ],
   "source": [
    "y_new"
   ]
  },
  {
   "cell_type": "code",
   "execution_count": 95,
   "metadata": {
    "scrolled": false
   },
   "outputs": [
    {
     "name": "stdout",
     "output_type": "stream",
     "text": [
      "[1 0]\n"
     ]
    }
   ],
   "source": [
    "print(best_clf.predict(y_new))"
   ]
  },
  {
   "cell_type": "code",
   "execution_count": null,
   "metadata": {},
   "outputs": [],
   "source": []
  },
  {
   "cell_type": "code",
   "execution_count": null,
   "metadata": {},
   "outputs": [],
   "source": []
  },
  {
   "cell_type": "code",
   "execution_count": null,
   "metadata": {},
   "outputs": [],
   "source": []
  },
  {
   "cell_type": "code",
   "execution_count": null,
   "metadata": {},
   "outputs": [],
   "source": []
  },
  {
   "cell_type": "code",
   "execution_count": null,
   "metadata": {},
   "outputs": [],
   "source": []
  },
  {
   "cell_type": "code",
   "execution_count": null,
   "metadata": {},
   "outputs": [],
   "source": []
  },
  {
   "cell_type": "code",
   "execution_count": 444,
   "metadata": {},
   "outputs": [],
   "source": [
    "from sklearn.ensemble import GradientBoostingClassifier"
   ]
  },
  {
   "cell_type": "code",
   "execution_count": 445,
   "metadata": {},
   "outputs": [],
   "source": [
    "model = GradientBoostingClassifier()"
   ]
  },
  {
   "cell_type": "code",
   "execution_count": 446,
   "metadata": {},
   "outputs": [],
   "source": [
    "max_depth = [2, 3, 4]"
   ]
  },
  {
   "cell_type": "code",
   "execution_count": 447,
   "metadata": {},
   "outputs": [],
   "source": [
    "n_estimators = range(280, 460, 20)"
   ]
  },
  {
   "cell_type": "code",
   "execution_count": 448,
   "metadata": {},
   "outputs": [],
   "source": [
    "learning_rate = [0.05, 0.1, 0.2]"
   ]
  },
  {
   "cell_type": "code",
   "execution_count": 449,
   "metadata": {},
   "outputs": [],
   "source": [
    "param_grid = dict(max_depth=max_depth, n_estimators=n_estimators, learning_rate=learning_rate)"
   ]
  },
  {
   "cell_type": "code",
   "execution_count": 450,
   "metadata": {},
   "outputs": [],
   "source": [
    "grid_search = GridSearchCV(model, param_grid, n_jobs=-1, cv=5)"
   ]
  },
  {
   "cell_type": "code",
   "execution_count": 451,
   "metadata": {},
   "outputs": [
    {
     "data": {
      "text/plain": [
       "GridSearchCV(cv=5, error_score='raise-deprecating',\n",
       "             estimator=GradientBoostingClassifier(criterion='friedman_mse',\n",
       "                                                  init=None, learning_rate=0.1,\n",
       "                                                  loss='deviance', max_depth=3,\n",
       "                                                  max_features=None,\n",
       "                                                  max_leaf_nodes=None,\n",
       "                                                  min_impurity_decrease=0.0,\n",
       "                                                  min_impurity_split=None,\n",
       "                                                  min_samples_leaf=1,\n",
       "                                                  min_samples_split=2,\n",
       "                                                  min_weight_fraction_leaf=0.0,\n",
       "                                                  n_estimators=100,\n",
       "                                                  n_iter_no_change=None,\n",
       "                                                  presort='auto',\n",
       "                                                  random_state=None,\n",
       "                                                  subsample=1.0, tol=0.0001,\n",
       "                                                  validation_fraction=0.1,\n",
       "                                                  verbose=0, warm_start=False),\n",
       "             iid='warn', n_jobs=-1,\n",
       "             param_grid={'learning_rate': [0.05, 0.1, 0.2],\n",
       "                         'max_depth': [2, 3, 4],\n",
       "                         'n_estimators': range(280, 460, 20)},\n",
       "             pre_dispatch='2*n_jobs', refit=True, return_train_score=False,\n",
       "             scoring=None, verbose=0)"
      ]
     },
     "execution_count": 451,
     "metadata": {},
     "output_type": "execute_result"
    }
   ],
   "source": [
    "grid_search.fit(X_train, y_train)"
   ]
  },
  {
   "cell_type": "code",
   "execution_count": 452,
   "metadata": {},
   "outputs": [
    {
     "data": {
      "text/plain": [
       "{'learning_rate': 0.05, 'max_depth': 2, 'n_estimators': 440}"
      ]
     },
     "execution_count": 452,
     "metadata": {},
     "output_type": "execute_result"
    }
   ],
   "source": [
    "grid_search.best_params_"
   ]
  },
  {
   "cell_type": "code",
   "execution_count": 453,
   "metadata": {},
   "outputs": [],
   "source": [
    "best_clf = grid_search.best_estimator_"
   ]
  },
  {
   "cell_type": "code",
   "execution_count": 454,
   "metadata": {},
   "outputs": [
    {
     "data": {
      "text/plain": [
       "0.78"
      ]
     },
     "execution_count": 454,
     "metadata": {},
     "output_type": "execute_result"
    }
   ],
   "source": [
    "best_clf.score(X_test, y_test) #785"
   ]
  },
  {
   "cell_type": "code",
   "execution_count": 455,
   "metadata": {},
   "outputs": [],
   "source": [
    "y_pred = best_clf.predict(X_test)"
   ]
  },
  {
   "cell_type": "code",
   "execution_count": 456,
   "metadata": {},
   "outputs": [
    {
     "data": {
      "text/plain": [
       "0.8157894736842105"
      ]
     },
     "execution_count": 456,
     "metadata": {},
     "output_type": "execute_result"
    }
   ],
   "source": [
    "precision_score(y_test, y_pred)"
   ]
  },
  {
   "cell_type": "code",
   "execution_count": 457,
   "metadata": {},
   "outputs": [
    {
     "data": {
      "text/plain": [
       "0.8857142857142857"
      ]
     },
     "execution_count": 457,
     "metadata": {},
     "output_type": "execute_result"
    }
   ],
   "source": [
    "recall_score(y_test, y_pred)"
   ]
  },
  {
   "cell_type": "code",
   "execution_count": null,
   "metadata": {},
   "outputs": [],
   "source": []
  },
  {
   "cell_type": "code",
   "execution_count": null,
   "metadata": {},
   "outputs": [],
   "source": []
  },
  {
   "cell_type": "code",
   "execution_count": 458,
   "metadata": {},
   "outputs": [],
   "source": [
    "boost = GradientBoostingClassifier(learning_rate=0.03, n_estimators=500, max_depth=2).fit(X_train, y_train) #2 10 "
   ]
  },
  {
   "cell_type": "code",
   "execution_count": 459,
   "metadata": {},
   "outputs": [],
   "source": [
    "boost_predict = boost.predict(X_test)"
   ]
  },
  {
   "cell_type": "code",
   "execution_count": 460,
   "metadata": {},
   "outputs": [
    {
     "data": {
      "text/plain": [
       "0.77"
      ]
     },
     "execution_count": 460,
     "metadata": {},
     "output_type": "execute_result"
    }
   ],
   "source": [
    "accuracy_score(y_test, boost_predict)"
   ]
  },
  {
   "cell_type": "code",
   "execution_count": 461,
   "metadata": {},
   "outputs": [
    {
     "data": {
      "text/plain": [
       "0.8092105263157895"
      ]
     },
     "execution_count": 461,
     "metadata": {},
     "output_type": "execute_result"
    }
   ],
   "source": [
    "precision_score(y_test, boost_predict)"
   ]
  },
  {
   "cell_type": "code",
   "execution_count": 462,
   "metadata": {},
   "outputs": [
    {
     "data": {
      "text/plain": [
       "0.8785714285714286"
      ]
     },
     "execution_count": 462,
     "metadata": {},
     "output_type": "execute_result"
    }
   ],
   "source": [
    "recall_score(y_test, boost_predict)"
   ]
  },
  {
   "cell_type": "code",
   "execution_count": null,
   "metadata": {},
   "outputs": [],
   "source": []
  },
  {
   "cell_type": "code",
   "execution_count": null,
   "metadata": {},
   "outputs": [],
   "source": []
  },
  {
   "cell_type": "code",
   "execution_count": null,
   "metadata": {},
   "outputs": [],
   "source": []
  },
  {
   "cell_type": "code",
   "execution_count": null,
   "metadata": {},
   "outputs": [],
   "source": []
  },
  {
   "cell_type": "code",
   "execution_count": 463,
   "metadata": {},
   "outputs": [],
   "source": [
    "import xgboost as xgb\n",
    "from xgboost import XGBClassifier"
   ]
  },
  {
   "cell_type": "code",
   "execution_count": 464,
   "metadata": {},
   "outputs": [],
   "source": [
    "model = xgb.XGBClassifier() #learn 0.3/ depth 3/ est 46"
   ]
  },
  {
   "cell_type": "code",
   "execution_count": 465,
   "metadata": {},
   "outputs": [],
   "source": [
    "n_estimators = range(43, 50)"
   ]
  },
  {
   "cell_type": "code",
   "execution_count": 466,
   "metadata": {},
   "outputs": [],
   "source": [
    "max_depth = [2, 3, 4]"
   ]
  },
  {
   "cell_type": "code",
   "execution_count": 467,
   "metadata": {},
   "outputs": [],
   "source": [
    "learning_rate = [0.3]"
   ]
  },
  {
   "cell_type": "code",
   "execution_count": 468,
   "metadata": {},
   "outputs": [],
   "source": [
    "eta = [0.001]"
   ]
  },
  {
   "cell_type": "code",
   "execution_count": 469,
   "metadata": {},
   "outputs": [],
   "source": [
    "param_grid = dict(max_depth=max_depth, n_estimators=n_estimators, learning_rate=learning_rate, eta=eta)"
   ]
  },
  {
   "cell_type": "code",
   "execution_count": 470,
   "metadata": {},
   "outputs": [],
   "source": [
    "grid_search = GridSearchCV(model, param_grid, n_jobs=-1, cv=5)"
   ]
  },
  {
   "cell_type": "code",
   "execution_count": 471,
   "metadata": {},
   "outputs": [
    {
     "data": {
      "text/plain": [
       "GridSearchCV(cv=5, error_score='raise-deprecating',\n",
       "             estimator=XGBClassifier(base_score=None, booster=None,\n",
       "                                     colsample_bylevel=None,\n",
       "                                     colsample_bynode=None,\n",
       "                                     colsample_bytree=None, gamma=None,\n",
       "                                     gpu_id=None, importance_type='gain',\n",
       "                                     interaction_constraints=None,\n",
       "                                     learning_rate=None, max_delta_step=None,\n",
       "                                     max_depth=None, min_child_weight=None,\n",
       "                                     missing=nan, monotone_constrai...\n",
       "                                     objective='binary:logistic',\n",
       "                                     random_state=None, reg_alpha=None,\n",
       "                                     reg_lambda=None, scale_pos_weight=None,\n",
       "                                     subsample=None, tree_method=None,\n",
       "                                     validate_parameters=None, verbosity=None),\n",
       "             iid='warn', n_jobs=-1,\n",
       "             param_grid={'eta': [0.001], 'learning_rate': [0.3],\n",
       "                         'max_depth': [2, 3, 4],\n",
       "                         'n_estimators': range(43, 50)},\n",
       "             pre_dispatch='2*n_jobs', refit=True, return_train_score=False,\n",
       "             scoring=None, verbose=0)"
      ]
     },
     "execution_count": 471,
     "metadata": {},
     "output_type": "execute_result"
    }
   ],
   "source": [
    "grid_search.fit(X_train, y_train)"
   ]
  },
  {
   "cell_type": "code",
   "execution_count": 472,
   "metadata": {},
   "outputs": [
    {
     "data": {
      "text/plain": [
       "{'eta': 0.001, 'learning_rate': 0.3, 'max_depth': 2, 'n_estimators': 48}"
      ]
     },
     "execution_count": 472,
     "metadata": {},
     "output_type": "execute_result"
    }
   ],
   "source": [
    "grid_search.best_params_"
   ]
  },
  {
   "cell_type": "code",
   "execution_count": 473,
   "metadata": {},
   "outputs": [],
   "source": [
    "best_clf = grid_search.best_estimator_"
   ]
  },
  {
   "cell_type": "code",
   "execution_count": 474,
   "metadata": {},
   "outputs": [
    {
     "data": {
      "text/plain": [
       "0.785"
      ]
     },
     "execution_count": 474,
     "metadata": {},
     "output_type": "execute_result"
    }
   ],
   "source": [
    "best_clf.score(X_test, y_test) #785"
   ]
  },
  {
   "cell_type": "code",
   "execution_count": 475,
   "metadata": {},
   "outputs": [],
   "source": [
    "y_pred = best_clf.predict(X_test)"
   ]
  },
  {
   "cell_type": "code",
   "execution_count": 476,
   "metadata": {},
   "outputs": [
    {
     "data": {
      "text/plain": [
       "0.8129032258064516"
      ]
     },
     "execution_count": 476,
     "metadata": {},
     "output_type": "execute_result"
    }
   ],
   "source": [
    "precision_score(y_test, y_pred)"
   ]
  },
  {
   "cell_type": "code",
   "execution_count": 477,
   "metadata": {},
   "outputs": [
    {
     "data": {
      "text/plain": [
       "0.9"
      ]
     },
     "execution_count": 477,
     "metadata": {},
     "output_type": "execute_result"
    }
   ],
   "source": [
    "recall_score(y_test, y_pred)"
   ]
  },
  {
   "cell_type": "code",
   "execution_count": null,
   "metadata": {},
   "outputs": [],
   "source": []
  },
  {
   "cell_type": "code",
   "execution_count": null,
   "metadata": {},
   "outputs": [],
   "source": []
  },
  {
   "cell_type": "code",
   "execution_count": null,
   "metadata": {},
   "outputs": [],
   "source": []
  },
  {
   "cell_type": "code",
   "execution_count": null,
   "metadata": {},
   "outputs": [],
   "source": []
  },
  {
   "cell_type": "code",
   "execution_count": null,
   "metadata": {},
   "outputs": [],
   "source": []
  },
  {
   "cell_type": "code",
   "execution_count": null,
   "metadata": {},
   "outputs": [],
   "source": []
  },
  {
   "cell_type": "code",
   "execution_count": null,
   "metadata": {},
   "outputs": [],
   "source": []
  },
  {
   "cell_type": "code",
   "execution_count": null,
   "metadata": {},
   "outputs": [],
   "source": []
  },
  {
   "cell_type": "code",
   "execution_count": null,
   "metadata": {},
   "outputs": [],
   "source": [
    "account_check_status={'< 0 DM':1, '0 <= ... < 200 DM':0, 'no checking account':3,\n",
    "                      '>= 200 DM / salary assignments for at least 1 year':2}\n",
    "X[\"account_check_status\"]=X[\"account_check_status\"].map(account_check_status)\n",
    "\n",
    "credit_history={\"critical account/ other credits existing (not at this bank)\":1,\"existing credits paid back duly till now\":3,\n",
    "                \"delay in paying off in the past\":2,\"all credits at this bank paid back duly\":0,\n",
    "                \"no credits taken/ all credits paid back duly\":4}\n",
    "X[\"credit_history\"]=X[\"credit_history\"].map(credit_history)\n",
    "\n",
    "purpose={\"domestic appliances\":4, \"car (new)\":2, \"radio/television\":7, \"car (used)\":3, \"business\":1,\n",
    "         \"(vacation - does not exist?)\":0, \"repairs\":8, 'education':5,'furniture/equipment':6,'retraining':9}\n",
    "X[\"purpose\"]=X[\"purpose\"].map(purpose)\n",
    "\n",
    "savings={'.. >= 1000 DM':0, '500 <= ... < 1000 DM':3, '100 <= ... < 500 DM':2, 'unknown/ no savings account':4, '... < 100 DM':1}\n",
    "X[\"savings\"]=X[\"savings\"].map(savings)\n",
    "\n",
    "present_emp_since={'unemployed':4, '... < 1 year': 1, '4 <= ... < 7 years':3, '.. >= 7 years':0, '1 <= ... < 4 years':2}\n",
    "X[\"present_emp_since\"]=X[\"present_emp_since\"].map(present_emp_since)\n",
    "\n",
    "personal_status_sex={'male : divorced/separated':1, 'male : married/widowed':2,'female : divorced/separated/married':0,\n",
    "                    'male : single ':3}\n",
    "X[\"personal_status_sex\"]=X[\"personal_status_sex\"].map(personal_status_sex)\n",
    "\n",
    "property={'unknown / no property':3, 'if not A121 : building society savings agreement/ life insurance':0,\n",
    "         'real estate':2, 'if not A121/A122 : car or other, not in attribute 6':1}\n",
    "X[\"property\"]=X[\"property\"].map(property)\n",
    "\n",
    "other_installment_plans={'stores':2, 'bank':0, 'none':1}\n",
    "X[\"other_installment_plans\"]=X[\"other_installment_plans\"].map(other_installment_plans)\n",
    "\n",
    "housing={'for free':0, 'rent':2, 'own':1}\n",
    "X[\"housing\"]=X[\"housing\"].map(housing)\n",
    "\n",
    "job={'unemployed/ unskilled - non-resident':2, 'management/ self-employed/ highly qualified employee/ officer':0,\n",
    "    'unskilled - resident ':3, 'skilled employee / official ':1}\n",
    "X[\"job\"]=X[\"job\"].map(job)\n",
    "\n",
    "telephone={'yes, registered under the customers name':1, 'none':0}\n",
    "X[\"telephone\"]=X[\"telephone\"].map(telephone)"
   ]
  },
  {
   "cell_type": "code",
   "execution_count": null,
   "metadata": {},
   "outputs": [],
   "source": [
    "account_check_status={'< 0 DM':1, '0 <= ... < 200 DM':0, 'no checking account':3,\n",
    "                      '>= 200 DM / salary assignments for at least 1 year':2}\n",
    "y_new[\"account_check_status\"]=y_new[\"account_check_status\"].map(account_check_status)\n",
    "\n",
    "credit_history={\"critical account/ other credits existing (not at this bank)\":1,\"existing credits paid back duly till now\":3,\n",
    "                \"delay in paying off in the past\":2,\"all credits at this bank paid back duly\":0,\n",
    "                \"no credits taken/ all credits paid back duly\":4}\n",
    "y_new[\"credit_history\"]=y_new[\"credit_history\"].map(credit_history)\n",
    "\n",
    "purpose={\"domestic appliances\":4, \"car (new)\":2, \"radio/television\":7, \"car (used)\":3, \"business\":1,\n",
    "         \"(vacation - does not exist?)\":0, \"repairs\":8, 'education':5,'furniture/equipment':6,'retraining':9}#'furniture/equipment':,'retraining':\n",
    "y_new[\"purpose\"]=y_new[\"purpose\"].map(purpose)\n",
    "\n",
    "savings={'.. >= 1000 DM':0, '500 <= ... < 1000 DM':3, '100 <= ... < 500 DM':2, 'unknown/ no savings account':4, '... < 100 DM':1}\n",
    "y_new[\"savings\"]=y_new[\"savings\"].map(savings)\n",
    "\n",
    "present_emp_since={'unemployed':4, '... < 1 year': 1, '4 <= ... < 7 years':3, '.. >= 7 years':0, '1 <= ... < 4 years':2}\n",
    "y_new[\"present_emp_since\"]=y_new[\"present_emp_since\"].map(present_emp_since)\n",
    "\n",
    "personal_status_sex={'male : divorced/separated':1, 'male : married/widowed':2,'female : divorced/separated/married':0,\n",
    "                    'male : single':3}\n",
    "y_new[\"personal_status_sex\"]=y_new[\"personal_status_sex\"].map(personal_status_sex)\n",
    "\n",
    "property={'unknown / no property':3, 'if not A121 : building society savings agreement/ life insurance':0,\n",
    "         'real estate':2, 'if not A121/A122 : car or other, not in attribute 6':1}\n",
    "y_new[\"property\"]=y_new[\"property\"].map(property)\n",
    "\n",
    "other_installment_plans={'stores':2, 'bank':0, 'none':1}\n",
    "y_new[\"other_installment_plans\"]=y_new[\"other_installment_plans\"].map(other_installment_plans)\n",
    "\n",
    "housing={'for free':0, 'rent':2, 'own':1}\n",
    "y_new[\"housing\"]=y_new[\"housing\"].map(housing)\n",
    "\n",
    "job={'unemployed/ unskilled - non-resident':2, 'management/ self-employed/ highly qualified employee/ officer':0,\n",
    "    'unskilled - resident':3, 'skilled employee / official':1}\n",
    "y_new[\"job\"]=y_new[\"job\"].map(job)\n",
    "\n",
    "telephone={'yes, registered under the customers name':1, 'none':0}\n",
    "y_new[\"telephone\"]=y_new[\"telephone\"].map(telephone)"
   ]
  },
  {
   "cell_type": "code",
   "execution_count": null,
   "metadata": {},
   "outputs": [],
   "source": [
    "y_new[\"housing\"] = y_new[\"housing\"].map({'for free' : 1, 'own': 2 , 'rent': 3})"
   ]
  }
 ],
 "metadata": {
  "kernelspec": {
   "display_name": "Python 3",
   "language": "python",
   "name": "python3"
  },
  "language_info": {
   "codemirror_mode": {
    "name": "ipython",
    "version": 3
   },
   "file_extension": ".py",
   "mimetype": "text/x-python",
   "name": "python",
   "nbconvert_exporter": "python",
   "pygments_lexer": "ipython3",
   "version": "3.7.4"
  }
 },
 "nbformat": 4,
 "nbformat_minor": 2
}
